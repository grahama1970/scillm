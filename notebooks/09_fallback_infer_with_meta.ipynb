{
 "cells": [
  {
   "cell_type": "markdown",
   "id": "b51facb6",
   "metadata": {},
   "source": [
    "### Runtime setup\n",
    "The following envs enable stable retries and quiet streaming.\n",
    "\n",
    "- `SCILLM_FORCE_HTTPX_STREAM=1`\n",
    "- `LITELLM_MAX_RETRIES=3`, `LITELLM_RETRY_AFTER=1`, `LITELLM_TIMEOUT=45`\n",
    "- Requires `tenacity` installed for backoff."
   ]
  },
  {
   "cell_type": "code",
   "execution_count": null,
   "id": "1f615d3e",
   "metadata": {},
   "outputs": [],
   "source": [
    "import os\n",
    "os.environ.setdefault('SCILLM_FORCE_HTTPX_STREAM','1')\n",
    "os.environ.setdefault('LITELLM_MAX_RETRIES','3')\n",
    "os.environ.setdefault('LITELLM_RETRY_AFTER','1')\n",
    "os.environ.setdefault('LITELLM_TIMEOUT','45')\n",
    "try:\n",
    "    import tenacity  # noqa: F401\n",
    "    print('tenacity: ok')\n",
    "except Exception:\n",
    "    print('tenacity missing — run: pip install tenacity')\n"
   ]
  },
  {
   "cell_type": "markdown",
   "id": "7d4f535a",
   "metadata": {},
   "source": [
    "# Fallback Inference with Attribution\n",
    "\n",
    "        Demonstrates automatic dynamic selection, fallbacks, and `scillm_meta` attribution."
   ]
  },
  {
   "cell_type": "code",
   "execution_count": null,
   "id": "e2861a9a",
   "metadata": {},
   "outputs": [],
   "source": [
    "import os\n",
    "from scillm.extras import infer_with_fallback\n",
    "\n",
    "resp, meta = infer_with_fallback(\n",
    "    messages=[{'role':'user','content':'Return only {\"ok\":true} as JSON.'}],\n",
    "    kind='text',\n",
    "    require_json=True,\n",
    "    max_retries=3, retry_after=1, timeout=45,\n",
    ")\n",
    "print('content:', resp.choices[0].message.get('content',''))\n",
    "print('meta:', meta)"
   ]
  }
 ],
 "metadata": {},
 "nbformat": 4,
 "nbformat_minor": 5
}