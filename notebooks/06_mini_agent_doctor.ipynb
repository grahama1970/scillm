{
 "cells": [
  {
   "cell_type": "markdown",
   "id": "3f5a5a94",
   "metadata": {},
   "source": [
    "# Mini‑Agent — Doctor\n",
    "\n",
    "        Runs the mini‑agent verification script and prints a minimal JSON chat result."
   ]
  },
  {
   "cell_type": "code",
   "execution_count": null,
   "id": "13a6b168",
   "metadata": {},
   "outputs": [],
   "source": [
    "import runpy\n",
    "out = runpy.run_path('debug/verify_mini_agent.py')\n",
    "print(out)"
   ]
  }
 ],
 "metadata": {},
 "nbformat": 4,
 "nbformat_minor": 5
}