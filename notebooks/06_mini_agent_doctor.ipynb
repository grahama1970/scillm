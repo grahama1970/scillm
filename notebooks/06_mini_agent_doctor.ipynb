{
 "cells": [
  {
   "cell_type": "markdown",
   "id": "5469e5c6",
   "metadata": {},
   "source": [
    "# Mini‑Agent — Doctor\n",
    "\n",
    "        Runs the mini‑agent verification script and prints a minimal JSON chat result."
   ]
  },
  {
   "cell_type": "code",
   "execution_count": null,
   "id": "b4a3dc83",
   "metadata": {},
   "outputs": [],
   "source": [
    "import runpy\n",
    "out = runpy.run_path('debug/verify_mini_agent.py')\n",
    "print(out)"
   ]
  }
 ],
 "metadata": {},
 "nbformat": 4,
 "nbformat_minor": 5
}