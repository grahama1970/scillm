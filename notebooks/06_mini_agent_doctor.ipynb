{
 "cells": [
  {
   "cell_type": "code",
   "execution_count": null,
   "id": "b99aed30",
   "metadata": {},
   "outputs": [],
   "source": [
    "import os, pathlib\n",
    "p=pathlib.Path().resolve()\n",
    "if (p/'Makefile').exists():\n",
    "    pass\n",
    "elif p.name=='notebooks' and (p.parent/'Makefile').exists():\n",
    "    os.chdir(p.parent)\n",
    "print('cwd:', os.getcwd())"
   ]
  },
  {
   "cell_type": "markdown",
   "id": "b78c7057",
   "metadata": {},
   "source": [
    "# Mini‑Agent — Doctor\n",
    "\n",
    "        Runs the mini‑agent verification script and prints a minimal JSON chat result."
   ]
  },
  {
   "cell_type": "code",
   "execution_count": null,
   "id": "87388f24",
   "metadata": {},
   "outputs": [],
   "source": [
    "import runpy\n",
    "out = runpy.run_path('debug/verify_mini_agent.py')\n",
    "print(out)"
   ]
  }
 ],
 "metadata": {},
 "nbformat": 4,
 "nbformat_minor": 5
}