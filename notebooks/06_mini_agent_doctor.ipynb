{
 "cells": [
  {
   "cell_type": "code",
   "execution_count": null,
   "id": "1e8822f1",
   "metadata": {},
   "outputs": [],
   "source": [
    "import os, pathlib\n",
    "p=pathlib.Path().resolve()\n",
    "if (p/'Makefile').exists():\n",
    "    pass\n",
    "elif p.name=='notebooks' and (p.parent/'Makefile').exists():\n",
    "    os.chdir(p.parent)\n",
    "print('cwd:', os.getcwd())"
   ]
  },
  {
   "cell_type": "markdown",
   "id": "1a38a4bf",
   "metadata": {},
   "source": [
    "# Mini‑Agent — Doctor\n",
    "\n",
    "        Runs the mini‑agent verification script and prints a minimal JSON chat result."
   ]
  },
  {
   "cell_type": "code",
   "execution_count": null,
   "id": "66b49b91",
   "metadata": {},
   "outputs": [],
   "source": [
    "import runpy\n",
    "out = runpy.run_path('debug/verify_mini_agent.py')\n",
    "print(out)"
   ]
  }
 ],
 "metadata": {},
 "nbformat": 4,
 "nbformat_minor": 5
}