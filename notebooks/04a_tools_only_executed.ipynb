{
 "cells": [
  {
   "cell_type": "markdown",
   "id": "4ffe189d",
   "metadata": {},
   "source": [
    "### Runtime setup\n",
    "The following envs enable stable retries and quiet streaming.\n",
    "\n",
    "- `SCILLM_FORCE_HTTPX_STREAM=1`\n",
    "- `LITELLM_MAX_RETRIES=3`, `LITELLM_RETRY_AFTER=1`, `LITELLM_TIMEOUT=45`\n",
    "- Requires `tenacity` installed for backoff."
   ]
  },
  {
   "cell_type": "code",
   "execution_count": 1,
   "id": "51cd62d4",
   "metadata": {
    "execution": {
     "iopub.execute_input": "2025-10-27T22:50:55.671726Z",
     "iopub.status.busy": "2025-10-27T22:50:55.671627Z",
     "iopub.status.idle": "2025-10-27T22:50:55.682813Z",
     "shell.execute_reply": "2025-10-27T22:50:55.682097Z"
    }
   },
   "outputs": [
    {
     "name": "stdout",
     "output_type": "stream",
     "text": [
      "tenacity: ok\n"
     ]
    }
   ],
   "source": [
    "import os\n",
    "os.environ.setdefault('SCILLM_FORCE_HTTPX_STREAM','1')\n",
    "os.environ.setdefault('LITELLM_MAX_RETRIES','3')\n",
    "os.environ.setdefault('LITELLM_RETRY_AFTER','1')\n",
    "os.environ.setdefault('LITELLM_TIMEOUT','45')\n",
    "try:\n",
    "    import tenacity  # noqa: F401\n",
    "    print('tenacity: ok')\n",
    "except Exception:\n",
    "    print('tenacity missing — run: pip install tenacity')\n"
   ]
  },
  {
   "cell_type": "markdown",
   "id": "7a97be7d",
   "metadata": {},
   "source": [
    "# Advanced — Tools only (smoke)"
   ]
  },
  {
   "cell_type": "markdown",
   "id": "2d27a99f",
   "metadata": {},
   "source": [
    "\n",
    "### Troubleshooting with curl (Chutes)\n",
    "\n",
    "If a SciLLM call fails, verify the tenant directly:\n",
    "\n",
    "1) List models\n",
    "```bash\n",
    "curl -sS -H \"Authorization: Bearer $CHUTES_API_KEY\"   \"$CHUTES_API_BASE/models\" | jq '. | {count:(.data//[])|length} // length'\n",
    "```\n",
    "\n",
    "2) Minimal JSON chat (non-stream)\n",
    "```bash\n",
    "curl -sS -X POST -H \"Authorization: Bearer $CHUTES_API_KEY\"   -H \"Content-Type: application/json\"   \"$CHUTES_API_BASE/chat/completions\"   -d '{\n",
    "    \"model\": \"'$CHUTES_TEXT_MODEL'\",\n",
    "    \"messages\": [{\"role\":\"user\",\"content\":\"Return only {\"ok\":true} as JSON.\"}],\n",
    "    \"response_format\": {\"type\":\"json_object\"},\n",
    "    \"max_tokens\": 16,\n",
    "    \"temperature\": 0\n",
    "  }' | jq '.choices[0].message.content // empty'\n",
    "```\n",
    "\n",
    "3) Streaming (text) — watch for data: lines\n",
    "```bash\n",
    "curl -sN -X POST -H \"Authorization: Bearer $CHUTES_API_KEY\"   -H \"Content-Type: application/json\"   \"$CHUTES_API_BASE/chat/completions\"   -d '{\n",
    "    \"model\": \"'$CHUTES_TEXT_MODEL'\",\n",
    "    \"messages\": [{\"role\":\"user\",\"content\":\"Tell me a 10 word story.\"}],\n",
    "    \"stream\": true\n",
    "  }'\n",
    "```\n",
    "\n",
    "4) Multimodal (image_url)\n",
    "```bash\n",
    "IMG_URL=${SCILLM_DEMO_IMAGE:-https://upload.wikimedia.org/wikipedia/commons/thumb/3/3f/Fronalpstock_big.jpg/320px-Fronalpstock_big.jpg}\n",
    "curl -sS -X POST -H \"Authorization: Bearer $CHUTES_API_KEY\"   -H \"Content-Type: application/json\"   \"$CHUTES_API_BASE/chat/completions\"   -d '{\n",
    "    \"model\": \"'$CHUTES_VLM_MODEL'\",\n",
    "    \"messages\": [{\n",
    "      \"role\":\"user\",\n",
    "      \"content\": [\n",
    "        {\"type\":\"text\",\"text\":\"Say OK and a color in the image.\"},\n",
    "        {\"type\":\"image_url\",\"image_url\": {\"url\": \"'\"$IMG_URL\"'\"}}\n",
    "      ]\n",
    "    }],\n",
    "    \"max_tokens\": 32,\n",
    "    \"temperature\": 0\n",
    "  }' | jq '.choices[0].message.content // empty'\n",
    "```\n"
   ]
  },
  {
   "cell_type": "markdown",
   "id": "51703c37",
   "metadata": {},
   "source": [
    "### Why/When/Gotchas/Troubleshooting\n",
    "- Why: call function tools (OpenAI-format) with SciLLM.\n",
    "- When: structured actions, deterministic JSON I/O.\n",
    "- Gotchas: rate limits (429) — set max_retries/retry_after/timeout; annotate tool schema clearly.\n",
    "- Troubleshooting: set SCILLM_ALLOW_TOOLS_SMOKE=1 to run the cell; inspect printed tool_calls."
   ]
  },
  {
   "cell_type": "markdown",
   "id": "6773e20d",
   "metadata": {},
   "source": [
    "## Curl sanity (documentation)\n",
    "\n",
    "        ```bash\n",
    "        curl -X POST \\\n",
    "          $CHUTES_API_BASE/chat/completions \\\n",
    "          -H \"Authorization: Bearer $CHUTES_API_KEY\" \\\n",
    "          -H \"Content-Type: application/json\" \\\n",
    "          -d '{\n",
    "            \"model\": \"$CHUTES_VLM_MODEL\",\n",
    "            \"messages\": [{\"role\":\"user\",\"content\":\"Tell me a 250 word story.\"}],\n",
    "            \"stream\": true,\n",
    "            \"max_tokens\": 256,\n",
    "            \"temperature\": 0.7\n",
    "          }'\n",
    "        ```"
   ]
  },
  {
   "cell_type": "code",
   "execution_count": 2,
   "id": "3388bf87",
   "metadata": {
    "execution": {
     "iopub.execute_input": "2025-10-27T22:50:55.684909Z",
     "iopub.status.busy": "2025-10-27T22:50:55.684724Z",
     "iopub.status.idle": "2025-10-27T22:50:57.027940Z",
     "shell.execute_reply": "2025-10-27T22:50:57.027274Z"
    }
   },
   "outputs": [
    {
     "name": "stdout",
     "output_type": "stream",
     "text": [
      "Skipping tools smoke — set SCILLM_ALLOW_TOOLS_SMOKE=1 to run\n"
     ]
    }
   ],
   "source": [
    "import os, json\n",
    "from scillm import completion\n",
    "tools=[{'type':'function','function':{'name':'ack','description':'Acknowledge','parameters':{'type':'object','properties':{'ok':{'type':'boolean'}},'required':['ok']}}}]\n",
    "if os.getenv('SCILLM_ALLOW_TOOLS_SMOKE','0').lower() not in {'1','true','yes'}:\n",
    "  print('Skipping tools smoke — set SCILLM_ALLOW_TOOLS_SMOKE=1 to run')\n",
    "else:\n",
    "  resp = completion(\n",
    "  model=os.environ.get('CHUTES_TOOLS_MODEL', os.environ.get('CHUTES_MODEL_ADVANCED', os.environ['CHUTES_MODEL'])),\n",
    "  api_base=os.environ['CHUTES_API_BASE'],\n",
    "  api_key=None,\n",
    "  custom_llm_provider='openai_like',\n",
    "  extra_headers={'Authorization': f\"Bearer {os.environ['CHUTES_API_KEY']}\"},\n",
    "  messages=[{'role':'user','content':'Call ack with ok=true'}],\n",
    "  tools=tools,\n",
    "  temperature=0,\n",
    "  max_tokens=32,\n",
    "  max_retries=3, retry_after=1, timeout=30,\n",
    ")\n",
    "  print(getattr(resp.choices[0], 'tool_calls', None))"
   ]
  }
 ],
 "metadata": {
  "language_info": {
   "codemirror_mode": {
    "name": "ipython",
    "version": 3
   },
   "file_extension": ".py",
   "mimetype": "text/x-python",
   "name": "python",
   "nbconvert_exporter": "python",
   "pygments_lexer": "ipython3",
   "version": "3.12.10"
  }
 },
 "nbformat": 4,
 "nbformat_minor": 5
}
