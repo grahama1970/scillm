{
 "cells": [
  {
   "cell_type": "markdown",
   "id": "39020017",
   "metadata": {},
   "source": [
    "### Runtime setup\n",
    "The following envs enable stable retries and quiet streaming.\n",
    "\n",
    "- `SCILLM_FORCE_HTTPX_STREAM=1`\n",
    "- `LITELLM_MAX_RETRIES=3`, `LITELLM_RETRY_AFTER=1`, `LITELLM_TIMEOUT=45`\n",
    "- Requires `tenacity` installed for backoff."
   ]
  },
  {
   "cell_type": "code",
   "execution_count": null,
   "id": "0cc46a44",
   "metadata": {},
   "outputs": [],
   "source": [
    "import os\n",
    "os.environ.setdefault('SCILLM_FORCE_HTTPX_STREAM','1')\n",
    "os.environ.setdefault('LITELLM_MAX_RETRIES','3')\n",
    "os.environ.setdefault('LITELLM_RETRY_AFTER','1')\n",
    "os.environ.setdefault('LITELLM_TIMEOUT','45')\n",
    "try:\n",
    "    import tenacity  # noqa: F401\n",
    "    print('tenacity: ok')\n",
    "except Exception:\n",
    "    print('tenacity missing — run: pip install tenacity')\n"
   ]
  },
  {
   "cell_type": "markdown",
   "id": "ce4bc3c2",
   "metadata": {},
   "source": [
    "# Litellm Provider — Anthropic (normal models)\n",
    "\n",
    "        Minimal Anthropic call. Requires `ANTHROPIC_API_KEY` and optional `ANTHROPIC_MODEL`\n",
    "        (default `claude-3-haiku-20240307`)."
   ]
  },
  {
   "cell_type": "code",
   "execution_count": null,
   "id": "7aceffbc",
   "metadata": {},
   "outputs": [],
   "source": [
    "import os, litellm\n",
    "key = os.environ.get('ANTHROPIC_API_KEY','')\n",
    "model = os.environ.get('ANTHROPIC_MODEL','claude-3-haiku-20240307')\n",
    "if not key:\n",
    "  print('ANTHROPIC_API_KEY not set — skipping live call')\n",
    "else:\n",
    "  resp = litellm.completion(\n",
    "    model=model,\n",
    "    custom_llm_provider='anthropic',\n",
    "    api_key=key,\n",
    "    messages=[{'role':'user','content':'In one word, say OK'}],\n",
    "    max_tokens=8,\n",
    "    temperature=0,\n",
    "  )\n",
    "  print(resp.choices[0].message.get('content',''))"
   ]
  }
 ],
 "metadata": {},
 "nbformat": 4,
 "nbformat_minor": 5
}