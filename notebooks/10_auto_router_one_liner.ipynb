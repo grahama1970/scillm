{
 "cells": [
  {
   "cell_type": "markdown",
   "id": "d424a7ed",
   "metadata": {},
   "source": [
    "### Runtime setup\n",
    "The following envs enable stable retries and quiet streaming.\n",
    "\n",
    "- `SCILLM_FORCE_HTTPX_STREAM=1`\n",
    "- `LITELLM_MAX_RETRIES=3`, `LITELLM_RETRY_AFTER=1`, `LITELLM_TIMEOUT=45`\n",
    "- Requires `tenacity` installed for backoff."
   ]
  },
  {
   "cell_type": "code",
   "execution_count": null,
   "id": "3b3f9df8",
   "metadata": {},
   "outputs": [],
   "source": [
    "import os\n",
    "os.environ.setdefault('SCILLM_FORCE_HTTPX_STREAM','1')\n",
    "os.environ.setdefault('LITELLM_MAX_RETRIES','3')\n",
    "os.environ.setdefault('LITELLM_RETRY_AFTER','1')\n",
    "os.environ.setdefault('LITELLM_TIMEOUT','45')\n",
    "try:\n",
    "    import tenacity  # noqa: F401\n",
    "    print('tenacity: ok')\n",
    "except Exception:\n",
    "    print('tenacity missing — run: pip install tenacity')\n"
   ]
  },
  {
   "cell_type": "markdown",
   "id": "d8fa34fd",
   "metadata": {},
   "source": [
    "# Auto Router — One Liner\n",
    "\n",
    "        Create a Router from env automatically; discover, rank, route."
   ]
  },
  {
   "cell_type": "code",
   "execution_count": null,
   "id": "ede0873d",
   "metadata": {},
   "outputs": [],
   "source": [
    "from scillm.extras import auto_router_from_env\n",
    "router = auto_router_from_env(kind='text', require_json=True)\n",
    "resp = router.completion(\n",
    "  model=router.model_list[0]['model_name'],\n",
    "  messages=[{'role':'user','content':'Return only {\"ok\":true} as JSON.'}],\n",
    "  response_format={'type':'json_object'},\n",
    "  max_retries=3, retry_after=1, timeout=45,\n",
    ")\n",
    "print(resp.choices[0].message.get('content',''))"
   ]
  }
 ],
 "metadata": {},
 "nbformat": 4,
 "nbformat_minor": 5
}