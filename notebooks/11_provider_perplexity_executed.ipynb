{
  "cells": [
    {
      "cell_type": "markdown",
      "metadata": {},
      "source": [
        "Run metadata (generated 2025-10-27 19:49:26Z)\n\n- SCILLM_FORCE_HTTPX_STREAM=\n- LITELLM_MAX_RETRIES=\n- LITELLM_RETRY_AFTER=\n- LITELLM_TIMEOUT=\n- SCILLM_ALLOW_TOOLS_SMOKE=\n- SCILLM_ALLOW_STREAM_SMOKE="
      ]
    },
    {
      "cell_type": "markdown",
      "id": "c2422ea1",
      "metadata": {},
      "source": [
        "### Runtime setup\n",
        "The following envs enable stable retries and quiet streaming.\n",
        "\n",
        "- `SCILLM_FORCE_HTTPX_STREAM=1`\n",
        "- `LITELLM_MAX_RETRIES=3`, `LITELLM_RETRY_AFTER=1`, `LITELLM_TIMEOUT=45`\n",
        "- Requires `tenacity` installed for backoff."
      ]
    },
    {
      "cell_type": "code",
      "execution_count": 1,
      "id": "a37b0091",
      "metadata": {
        "execution": {
          "iopub.execute_input": "2025-10-27T19:44:54.199701Z",
          "iopub.status.busy": "2025-10-27T19:44:54.199605Z",
          "iopub.status.idle": "2025-10-27T19:44:54.206836Z",
          "shell.execute_reply": "2025-10-27T19:44:54.206241Z"
        }
      },
      "outputs": [
        {
          "name": "stdout",
          "output_type": "stream",
          "text": [
            "tenacity: ok\n"
          ]
        }
      ],
      "source": [
        "import os\n",
        "os.environ.setdefault('SCILLM_FORCE_HTTPX_STREAM','1')\n",
        "os.environ.setdefault('LITELLM_MAX_RETRIES','3')\n",
        "os.environ.setdefault('LITELLM_RETRY_AFTER','1')\n",
        "os.environ.setdefault('LITELLM_TIMEOUT','45')\n",
        "try:\n",
        "    import tenacity  # noqa: F401\n",
        "    print('tenacity: ok')\n",
        "except Exception:\n",
        "    print('tenacity missing \u2014 run: pip install tenacity')\n"
      ]
    },
    {
      "cell_type": "markdown",
      "id": "58d4040a",
      "metadata": {},
      "source": [
        "# Litellm Provider \u2014 Perplexity\n",
        "\n",
        "        Demonstrates calling a Litellm-native provider (Perplexity) via SciLLM.\n",
        "        Requires `PERPLEXITY_API_KEY`. If `PERPLEXITY_MODEL` is unset, defaults to `sonar`."
      ]
    },
    {
      "cell_type": "code",
      "execution_count": 2,
      "id": "bd31e3aa",
      "metadata": {
        "execution": {
          "iopub.execute_input": "2025-10-27T19:44:54.208101Z",
          "iopub.status.busy": "2025-10-27T19:44:54.208003Z",
          "iopub.status.idle": "2025-10-27T19:44:57.411747Z",
          "shell.execute_reply": "2025-10-27T19:44:57.411219Z"
        }
      },
      "outputs": [
        {
          "name": "stdout",
          "output_type": "stream",
          "text": [
            "OK\n"
          ]
        }
      ],
      "source": [
        "import os\n",
        "from scillm import completion\n",
        "model = os.environ.get('PERPLEXITY_MODEL','sonar')\n",
        "key = os.environ.get('PERPLEXITY_API_KEY','')\n",
        "if not key:\n",
        "  print('PERPLEXITY_API_KEY not set \u2014 skipping live call')\n",
        "else:\n",
        "  resp = completion(\n",
        "    model=model,\n",
        "    custom_llm_provider='perplexity',\n",
        "    api_key=key,\n",
        "    messages=[{'role':'user','content':'In one word, say OK'}],\n",
        "    max_tokens=8,\n",
        "    temperature=0,\n",
        "  )\n",
        "  print(resp.choices[0].message.get('content',''))"
      ]
    },
    {
      "cell_type": "markdown",
      "id": "8bab7596",
      "metadata": {},
      "source": [
        "## 2) Async acompletion\n",
        "\n",
        "        Preferred for live apps and notebooks with other async work."
      ]
    },
    {
      "cell_type": "code",
      "execution_count": 3,
      "id": "e8638571",
      "metadata": {
        "execution": {
          "iopub.execute_input": "2025-10-27T19:44:57.413645Z",
          "iopub.status.busy": "2025-10-27T19:44:57.413521Z",
          "iopub.status.idle": "2025-10-27T19:44:59.784498Z",
          "shell.execute_reply": "2025-10-27T19:44:59.783797Z"
        }
      },
      "outputs": [
        {
          "name": "stdout",
          "output_type": "stream",
          "text": [
            "OK\n"
          ]
        }
      ],
      "source": [
        "import os, asyncio, scillm\n",
        "model = os.environ.get('PERPLEXITY_MODEL','sonar')\n",
        "key = os.environ.get('PERPLEXITY_API_KEY','')\n",
        "if not key:\n",
        "  print('PERPLEXITY_API_KEY not set \u2014 skipping live call')\n",
        "else:\n",
        "  async def main():\n",
        "    resp = await scillm.acompletion(\n",
        "      model=model,\n",
        "      custom_llm_provider='perplexity',\n",
        "      api_key=key,\n",
        "      messages=[{'role':'user','content':'In one word, say OK'}],\n",
        "      max_tokens=8,\n",
        "      temperature=0,\n",
        "      timeout=45,\n",
        "    )\n",
        "    print(resp.choices[0].message.get('content',''))\n",
        "  import nest_asyncio, asyncio as _asyncio\n",
        "  nest_asyncio.apply()\n",
        "  loop = _asyncio.get_event_loop()\n",
        "  loop.run_until_complete(main())"
      ]
    },
    {
      "cell_type": "markdown",
      "id": "00d7f5e2",
      "metadata": {},
      "source": [
        "## 3) Router.parallel_acompletions (batch of 3)\n",
        "\n",
        "        Fan out three requests concurrently. Always set `timeout` in `kwargs`."
      ]
    },
    {
      "cell_type": "code",
      "execution_count": 4,
      "id": "13946fbd",
      "metadata": {
        "execution": {
          "iopub.execute_input": "2025-10-27T19:44:59.786457Z",
          "iopub.status.busy": "2025-10-27T19:44:59.786322Z",
          "iopub.status.idle": "2025-10-27T19:45:05.941842Z",
          "shell.execute_reply": "2025-10-27T19:45:05.941099Z"
        }
      },
      "outputs": [
        {
          "name": "stdout",
          "output_type": "stream",
          "text": [
            "['OK-A is not a standard phrase o', '## Meaning of \"OK-B\"\\n\\nThe', '**OK-C** is not a standar']\n"
          ]
        }
      ],
      "source": [
        "import os, asyncio, scillm\n",
        "model = os.environ.get('PERPLEXITY_MODEL','sonar')\n",
        "key = os.environ.get('PERPLEXITY_API_KEY','')\n",
        "if not key:\n",
        "  print('PERPLEXITY_API_KEY not set \u2014 skipping live call')\n",
        "else:\n",
        "  router = scillm.Router(model_list=[{\n",
        "    'model_name': 'ppx',\n",
        "    'litellm_params': {\n",
        "      'custom_llm_provider': 'perplexity',\n",
        "      'model': model,\n",
        "      'api_key': key,\n",
        "    }\n",
        "  }])\n",
        "  prompts = ['Say OK-A','Say OK-B','Say OK-C']\n",
        "  reqs = [{\n",
        "    'model': 'ppx',\n",
        "    'messages': [{'role':'user','content': p}],\n",
        "    'kwargs': {'max_tokens': 8, 'temperature': 0, 'timeout': 30}\n",
        "  } for p in prompts]\n",
        "  async def run():\n",
        "    outs = await router.parallel_acompletions(requests=reqs, concurrency=3)\n",
        "    print([o.get('choices',[{}])[0].get('message',{}).get('content','') for o in outs])\n",
        "  import nest_asyncio, asyncio as _asyncio\n",
        "  nest_asyncio.apply()\n",
        "  loop = _asyncio.get_event_loop()\n",
        "  loop.run_until_complete(run())"
      ]
    }
  ],
  "metadata": {
    "language_info": {
      "codemirror_mode": {
        "name": "ipython",
        "version": 3
      },
      "file_extension": ".py",
      "mimetype": "text/x-python",
      "name": "python",
      "nbconvert_exporter": "python",
      "pygments_lexer": "ipython3",
      "version": "3.12.10"
    }
  },
  "nbformat": 4,
  "nbformat_minor": 5
}