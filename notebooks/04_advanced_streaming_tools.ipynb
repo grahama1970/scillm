{
 "cells": [
  {
   "cell_type": "markdown",
   "id": "4d2bd3a5",
   "metadata": {},
   "source": [
    "# Advanced — Streaming and Tools"
   ]
  },
  {
   "cell_type": "markdown",
   "id": "7f4c7393",
   "metadata": {},
   "source": [
    "## Curl sanity (documentation)\n",
    "\n",
    "        ```bash\n",
    "        curl -X POST \\\n",
    "          $CHUTES_API_BASE/chat/completions \\\n",
    "          -H \"Authorization: Bearer $CHUTES_API_KEY\" \\\n",
    "          -H \"Content-Type: application/json\" \\\n",
    "          -d '{\n",
    "            \"model\": \"$CHUTES_VLM_MODEL\",\n",
    "            \"messages\": [{\"role\":\"user\",\"content\":\"Tell me a 250 word story.\"}],\n",
    "            \"stream\": true,\n",
    "            \"max_tokens\": 256,\n",
    "            \"temperature\": 0.7\n",
    "          }'\n",
    "        ```"
   ]
  },
  {
   "cell_type": "code",
   "execution_count": null,
   "id": "97e41fe5",
   "metadata": {},
   "outputs": [],
   "source": [
    "import os, asyncio, litellm\n",
    "async def demo_stream():\n",
    "  stream = await litellm.acompletion(\n",
    "    model=os.environ.get('CHUTES_VLM_MODEL', os.environ['CHUTES_MODEL']),\n",
    "    api_base=os.environ['CHUTES_API_BASE'],\n",
    "    api_key=None,\n",
    "    custom_llm_provider='openai_like',\n",
    "    extra_headers={'Authorization': f\"Bearer {os.environ['CHUTES_API_KEY']}\"},\n",
    "    messages=[{'role':'user','content':'In one word, say OK'}],\n",
    "    temperature=0,\n",
    "    max_tokens=8,\n",
    "    stream=True,\n",
    "  )\n",
    "  async for ev in stream:\n",
    "    d = getattr(ev,'delta',None) or ev\n",
    "    text = (d.get('content') if isinstance(d,dict) else getattr(d,'content',None)) or ''\n",
    "    if text: print(text,end='')\n",
    "  print()\n",
    "asyncio.run(demo_stream())"
   ]
  },
  {
   "cell_type": "code",
   "execution_count": null,
   "id": "c25c7e70",
   "metadata": {},
   "outputs": [],
   "source": [
    "import os, json, litellm\n",
    "tools=[{'type':'function','function':{'name':'ack','description':'Acknowledge','parameters':{'type':'object','properties':{'ok':{'type':'boolean'}},'required':['ok']}}}]\n",
    "resp = litellm.completion(\n",
    "  model=os.environ.get('CHUTES_TOOLS_MODEL', os.environ.get('CHUTES_MODEL_ADVANCED', os.environ['CHUTES_MODEL'])),\n",
    "  api_base=os.environ['CHUTES_API_BASE'],\n",
    "  api_key=None,\n",
    "  custom_llm_provider='openai_like',\n",
    "  extra_headers={'Authorization': f\"Bearer {os.environ['CHUTES_API_KEY']}\"},\n",
    "  messages=[{'role':'user','content':'Call ack with ok=true'}],\n",
    "  tools=tools,\n",
    "  temperature=0,\n",
    "  max_tokens=32,\n",
    ")\n",
    "print(getattr(resp.choices[0], 'tool_calls', None))"
   ]
  }
 ],
 "metadata": {},
 "nbformat": 4,
 "nbformat_minor": 5
}