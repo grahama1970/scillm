{
 "cells": [
  {
   "cell_type": "markdown",
   "id": "9df1c4af",
   "metadata": {},
   "source": [
    "### Runtime setup\n",
    "The following envs enable stable retries and quiet streaming.\n",
    "\n",
    "- `SCILLM_DISABLE_AIOHTTP=1` (httpx-only async stability)\n",
    "- `SCILLM_FORCE_HTTPX_STREAM=1`\n",
    "- `LITELLM_MAX_RETRIES=3`, `LITELLM_RETRY_AFTER=1`, `LITELLM_TIMEOUT=45`\n",
    "- Requires `tenacity` installed for backoff."
   ]
  },
  {
   "cell_type": "code",
   "execution_count": null,
   "id": "7adf6772",
   "metadata": {},
   "outputs": [],
   "source": [
    "import os\n",
    "os.environ.setdefault('SCILLM_DISABLE_AIOHTTP','1')\n",
    "os.environ.setdefault('SCILLM_FORCE_HTTPX_STREAM','1')\n",
    "os.environ.setdefault('LITELLM_MAX_RETRIES','3')\n",
    "os.environ.setdefault('LITELLM_RETRY_AFTER','1')\n",
    "os.environ.setdefault('LITELLM_TIMEOUT','45')\n",
    "try:\n",
    "    import tenacity  # noqa: F401\n",
    "    print('tenacity: ok')\n",
    "except Exception:\n",
    "    print('tenacity missing — run: pip install tenacity')\n"
   ]
  },
  {
   "cell_type": "markdown",
   "id": "36b17855",
   "metadata": {},
   "source": [
    "# Advanced — Streaming and Tools"
   ]
  },
  {
   "cell_type": "markdown",
   "id": "0c306504",
   "metadata": {},
   "source": [
    "## Curl sanity (documentation)\n",
    "\n",
    "        ```bash\n",
    "        curl -X POST \\\n",
    "          $CHUTES_API_BASE/chat/completions \\\n",
    "          -H \"Authorization: Bearer $CHUTES_API_KEY\" \\\n",
    "          -H \"Content-Type: application/json\" \\\n",
    "          -d '{\n",
    "            \"model\": \"$CHUTES_VLM_MODEL\",\n",
    "            \"messages\": [{\"role\":\"user\",\"content\":\"Tell me a 250 word story.\"}],\n",
    "            \"stream\": true,\n",
    "            \"max_tokens\": 256,\n",
    "            \"temperature\": 0.7\n",
    "          }'\n",
    "        ```"
   ]
  },
  {
   "cell_type": "code",
   "execution_count": null,
   "id": "7c0e40ac",
   "metadata": {},
   "outputs": [],
   "source": [
    "import os, asyncio\n",
    "from scillm import acompletion\n",
    "async def demo_stream():\n",
    "  stream = await acompletion(\n",
    "    model=os.environ.get('CHUTES_VLM_MODEL', os.environ['CHUTES_MODEL']),\n",
    "    api_base=os.environ['CHUTES_API_BASE'],\n",
    "    api_key=os.environ['CHUTES_API_KEY'],\n",
    "    custom_llm_provider='openai_like',\n",
    "    messages=[{'role':'user','content':'In one word, say OK'}],\n",
    "    temperature=0,\n",
    "    max_tokens=8,\n",
    "    stream=True,\n",
    "  )\n",
    "  async for ev in stream:\n",
    "    d = getattr(ev,'delta',None) or ev\n",
    "    text = (d.get('content') if isinstance(d,dict) else getattr(d,'content',None)) or ''\n",
    "    if text: print(text,end='')\n",
    "  print()\n",
    "import sys\n",
    "loop = asyncio.get_event_loop()\n",
    "try:\n",
    "  if loop.is_running():\n",
    "    fut = asyncio.run_coroutine_threadsafe(demo_stream(), loop)\n",
    "    fut.result()\n",
    "  else:\n",
    "    loop.run_until_complete(demo_stream())\n",
    "except RuntimeError:\n",
    "  asyncio.run(demo_stream())"
   ]
  },
  {
   "cell_type": "code",
   "execution_count": null,
   "id": "d9ba4690",
   "metadata": {},
   "outputs": [],
   "source": [
    "import os, json\n",
    "from scillm import completion\n",
    "tools=[{'type':'function','function':{'name':'ack','description':'Acknowledge','parameters':{'type':'object','properties':{'ok':{'type':'boolean'}},'required':['ok']}}}]\n",
    "resp = completion(\n",
    "  model=os.environ.get('CHUTES_TOOLS_MODEL', os.environ.get('CHUTES_MODEL_ADVANCED', os.environ['CHUTES_MODEL'])),\n",
    "  api_base=os.environ['CHUTES_API_BASE'],\n",
    "  api_key=os.environ['CHUTES_API_KEY'],\n",
    "  custom_llm_provider='openai_like',\n",
    "  messages=[{'role':'user','content':'Call ack with ok=true'}],\n",
    "  tools=tools,\n",
    "  temperature=0,\n",
    "  max_tokens=32,\n",
    ")\n",
    "print(getattr(resp.choices[0], 'tool_calls', None))"
   ]
  }
 ],
 "metadata": {},
 "nbformat": 4,
 "nbformat_minor": 5
}