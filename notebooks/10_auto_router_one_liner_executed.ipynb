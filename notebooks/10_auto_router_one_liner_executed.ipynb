{
  "cells": [
    {
      "cell_type": "markdown",
      "metadata": {},
      "source": [
        "Run metadata (generated 2025-10-27 20:39:43Z)\n\n- SCILLM_FORCE_HTTPX_STREAM=\n- LITELLM_MAX_RETRIES=\n- LITELLM_RETRY_AFTER=\n- LITELLM_TIMEOUT=\n- SCILLM_ALLOW_TOOLS_SMOKE=\n- SCILLM_ALLOW_STREAM_SMOKE="
      ]
    },
    {
      "cell_type": "markdown",
      "metadata": {},
      "source": [
        "Run metadata (generated 2025-10-27 19:49:26Z)\n\n- SCILLM_FORCE_HTTPX_STREAM=\n- LITELLM_MAX_RETRIES=\n- LITELLM_RETRY_AFTER=\n- LITELLM_TIMEOUT=\n- SCILLM_ALLOW_TOOLS_SMOKE=\n- SCILLM_ALLOW_STREAM_SMOKE="
      ]
    },
    {
      "cell_type": "markdown",
      "id": "d424a7ed",
      "metadata": {},
      "source": [
        "### Runtime setup\n",
        "The following envs enable stable retries and quiet streaming.\n",
        "\n",
        "- `SCILLM_FORCE_HTTPX_STREAM=1`\n",
        "- `LITELLM_MAX_RETRIES=3`, `LITELLM_RETRY_AFTER=1`, `LITELLM_TIMEOUT=45`\n",
        "- Requires `tenacity` installed for backoff."
      ]
    },
    {
      "cell_type": "code",
      "execution_count": 1,
      "id": "3b3f9df8",
      "metadata": {
        "execution": {
          "iopub.execute_input": "2025-10-27T19:44:44.527547Z",
          "iopub.status.busy": "2025-10-27T19:44:44.527452Z",
          "iopub.status.idle": "2025-10-27T19:44:44.534300Z",
          "shell.execute_reply": "2025-10-27T19:44:44.533884Z"
        }
      },
      "outputs": [
        {
          "name": "stdout",
          "output_type": "stream",
          "text": [
            "tenacity: ok\n"
          ]
        }
      ],
      "source": [
        "import os\n",
        "os.environ.setdefault('SCILLM_FORCE_HTTPX_STREAM','1')\n",
        "os.environ.setdefault('LITELLM_MAX_RETRIES','3')\n",
        "os.environ.setdefault('LITELLM_RETRY_AFTER','1')\n",
        "os.environ.setdefault('LITELLM_TIMEOUT','45')\n",
        "try:\n",
        "    import tenacity  # noqa: F401\n",
        "    print('tenacity: ok')\n",
        "except Exception:\n",
        "    print('tenacity missing \u2014 run: pip install tenacity')\n"
      ]
    },
    {
      "cell_type": "markdown",
      "id": "d8fa34fd",
      "metadata": {},
      "source": [
        "# Auto Router \u2014 One Liner\n",
        "\n",
        "        Create a Router from env automatically; discover, rank, route."
      ]
    },
    {
      "cell_type": "code",
      "execution_count": 2,
      "id": "ede0873d",
      "metadata": {
        "execution": {
          "iopub.execute_input": "2025-10-27T19:44:44.536357Z",
          "iopub.status.busy": "2025-10-27T19:44:44.536150Z",
          "iopub.status.idle": "2025-10-27T19:44:51.919747Z",
          "shell.execute_reply": "2025-10-27T19:44:51.918945Z"
        }
      },
      "outputs": [
        {
          "name": "stdout",
          "output_type": "stream",
          "text": [
            "{\"ok\":true}\n"
          ]
        }
      ],
      "source": [
        "from scillm.extras import auto_router_from_env\n",
        "router = auto_router_from_env(kind='text', require_json=True)\n",
        "resp = router.completion(\n",
        "  model=router.model_list[0]['model_name'],\n",
        "  messages=[{'role':'user','content':'Return only {\"ok\":true} as JSON.'}],\n",
        "  response_format={'type':'json_object'},\n",
        "  max_retries=3, retry_after=1, timeout=45,\n",
        ")\n",
        "print(resp.choices[0].message.get('content',''))"
      ]
    }
  ],
  "metadata": {
    "language_info": {
      "codemirror_mode": {
        "name": "ipython",
        "version": 3
      },
      "file_extension": ".py",
      "mimetype": "text/x-python",
      "name": "python",
      "nbconvert_exporter": "python",
      "pygments_lexer": "ipython3",
      "version": "3.12.10"
    }
  },
  "nbformat": 4,
  "nbformat_minor": 5
}