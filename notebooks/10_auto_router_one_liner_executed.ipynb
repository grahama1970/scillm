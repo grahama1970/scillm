{
 "cells": [
  {
   "cell_type": "markdown",
   "id": "4c554e6c",
   "metadata": {},
   "source": [
    "### Runtime setup\n",
    "The following envs enable stable retries and quiet streaming.\n",
    "\n",
    "- `SCILLM_FORCE_HTTPX_STREAM=1`\n",
    "- `LITELLM_MAX_RETRIES=3`, `LITELLM_RETRY_AFTER=1`, `LITELLM_TIMEOUT=45`\n",
    "- Requires `tenacity` installed for backoff."
   ]
  },
  {
   "cell_type": "code",
   "execution_count": 1,
   "id": "ea08af2e",
   "metadata": {
    "execution": {
     "iopub.execute_input": "2025-10-27T22:51:07.380455Z",
     "iopub.status.busy": "2025-10-27T22:51:07.380357Z",
     "iopub.status.idle": "2025-10-27T22:51:07.389706Z",
     "shell.execute_reply": "2025-10-27T22:51:07.389046Z"
    }
   },
   "outputs": [
    {
     "name": "stdout",
     "output_type": "stream",
     "text": [
      "tenacity: ok\n"
     ]
    }
   ],
   "source": [
    "import os\n",
    "os.environ.setdefault('SCILLM_FORCE_HTTPX_STREAM','1')\n",
    "os.environ.setdefault('LITELLM_MAX_RETRIES','3')\n",
    "os.environ.setdefault('LITELLM_RETRY_AFTER','1')\n",
    "os.environ.setdefault('LITELLM_TIMEOUT','45')\n",
    "try:\n",
    "    import tenacity  # noqa: F401\n",
    "    print('tenacity: ok')\n",
    "except Exception:\n",
    "    print('tenacity missing — run: pip install tenacity')\n"
   ]
  },
  {
   "cell_type": "markdown",
   "id": "779096d5",
   "metadata": {},
   "source": [
    "# Auto Router — One Liner\n",
    "\n",
    "        Create a Router from env automatically; discover, rank, route."
   ]
  },
  {
   "cell_type": "code",
   "execution_count": 2,
   "id": "7a9a4ce7",
   "metadata": {
    "execution": {
     "iopub.execute_input": "2025-10-27T22:51:07.391482Z",
     "iopub.status.busy": "2025-10-27T22:51:07.391333Z",
     "iopub.status.idle": "2025-10-27T22:51:12.259495Z",
     "shell.execute_reply": "2025-10-27T22:51:12.258669Z"
    }
   },
   "outputs": [
    {
     "name": "stdout",
     "output_type": "stream",
     "text": [
      "{ \"ok\": true }\n"
     ]
    }
   ],
   "source": [
    "from scillm.extras import auto_router_from_env\n",
    "router = auto_router_from_env(kind='text', require_json=True)\n",
    "resp = router.completion(\n",
    "  model=router.model_list[0]['model_name'],\n",
    "  messages=[{'role':'user','content':'Return only {\"ok\":true} as JSON.'}],\n",
    "  response_format={'type':'json_object'},\n",
    "  max_retries=3, retry_after=1, timeout=45,\n",
    ")\n",
    "print(resp.choices[0].message.get('content',''))"
   ]
  }
 ],
 "metadata": {
  "language_info": {
   "codemirror_mode": {
    "name": "ipython",
    "version": 3
   },
   "file_extension": ".py",
   "mimetype": "text/x-python",
   "name": "python",
   "nbconvert_exporter": "python",
   "pygments_lexer": "ipython3",
   "version": "3.12.10"
  }
 },
 "nbformat": 4,
 "nbformat_minor": 5
}
