{
 "cells": [
  {
   "cell_type": "markdown",
   "id": "e4e96aca",
   "metadata": {},
   "source": [
    "### Runtime setup\n",
    "The following envs enable stable retries and quiet streaming.\n",
    "\n",
    "- `SCILLM_FORCE_HTTPX_STREAM=1`\n",
    "- `LITELLM_MAX_RETRIES=3`, `LITELLM_RETRY_AFTER=1`, `LITELLM_TIMEOUT=45`\n",
    "- Requires `tenacity` installed for backoff."
   ]
  },
  {
   "cell_type": "code",
   "execution_count": 1,
   "id": "fdee2814",
   "metadata": {
    "execution": {
     "iopub.execute_input": "2025-10-27T22:42:14.372956Z",
     "iopub.status.busy": "2025-10-27T22:42:14.372846Z",
     "iopub.status.idle": "2025-10-27T22:42:14.380373Z",
     "shell.execute_reply": "2025-10-27T22:42:14.379754Z"
    }
   },
   "outputs": [
    {
     "name": "stdout",
     "output_type": "stream",
     "text": [
      "tenacity: ok\n"
     ]
    }
   ],
   "source": [
    "import os\n",
    "os.environ.setdefault('SCILLM_FORCE_HTTPX_STREAM','1')\n",
    "os.environ.setdefault('LITELLM_MAX_RETRIES','3')\n",
    "os.environ.setdefault('LITELLM_RETRY_AFTER','1')\n",
    "os.environ.setdefault('LITELLM_TIMEOUT','45')\n",
    "try:\n",
    "    import tenacity  # noqa: F401\n",
    "    print('tenacity: ok')\n",
    "except Exception:\n",
    "    print('tenacity missing — run: pip install tenacity')\n"
   ]
  },
  {
   "cell_type": "markdown",
   "id": "b0693e30",
   "metadata": {},
   "source": [
    "# Auto Router — One Liner\n",
    "\n",
    "        Create a Router from env automatically; discover, rank, route."
   ]
  },
  {
   "cell_type": "code",
   "execution_count": 2,
   "id": "10dbef17",
   "metadata": {
    "execution": {
     "iopub.execute_input": "2025-10-27T22:42:14.381987Z",
     "iopub.status.busy": "2025-10-27T22:42:14.381878Z",
     "iopub.status.idle": "2025-10-27T22:42:20.039372Z",
     "shell.execute_reply": "2025-10-27T22:42:20.038768Z"
    }
   },
   "outputs": [
    {
     "name": "stdout",
     "output_type": "stream",
     "text": [
      "{ \"ok\": true }\n"
     ]
    }
   ],
   "source": [
    "from scillm.extras import auto_router_from_env\n",
    "router = auto_router_from_env(kind='text', require_json=True)\n",
    "resp = router.completion(\n",
    "  model=router.model_list[0]['model_name'],\n",
    "  messages=[{'role':'user','content':'Return only {\"ok\":true} as JSON.'}],\n",
    "  response_format={'type':'json_object'},\n",
    "  max_retries=3, retry_after=1, timeout=45,\n",
    ")\n",
    "print(resp.choices[0].message.get('content',''))"
   ]
  }
 ],
 "metadata": {
  "language_info": {
   "codemirror_mode": {
    "name": "ipython",
    "version": 3
   },
   "file_extension": ".py",
   "mimetype": "text/x-python",
   "name": "python",
   "nbconvert_exporter": "python",
   "pygments_lexer": "ipython3",
   "version": "3.12.10"
  }
 },
 "nbformat": 4,
 "nbformat_minor": 5
}
