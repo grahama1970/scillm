{
 "cells": [
  {
   "cell_type": "markdown",
   "id": "0f0cbb30",
   "metadata": {},
   "source": [
    "# Certainly — Bridge Doctor\n",
    "\n",
    "        Brings up the bridge container and runs the doctor script."
   ]
  },
  {
   "cell_type": "code",
   "execution_count": null,
   "id": "a01335d8",
   "metadata": {},
   "outputs": [],
   "source": [
    "import subprocess\n",
    "print('bringing up bridge…')\n",
    "subprocess.run(['bash','-lc','make certainly-bridge-up'], check=False)\n",
    "print('doctor…')\n",
    "subprocess.run(['bash','-lc','bash debug/certainly_bridge_doctor.sh'], check=False)"
   ]
  }
 ],
 "metadata": {},
 "nbformat": 4,
 "nbformat_minor": 5
}