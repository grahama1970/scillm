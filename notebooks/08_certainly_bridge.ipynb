{
 "cells": [
  {
   "cell_type": "code",
   "execution_count": null,
   "id": "75f4e8c7",
   "metadata": {},
   "outputs": [],
   "source": [
    "import os, pathlib\n",
    "p=pathlib.Path().resolve()\n",
    "if (p/'Makefile').exists():\n",
    "    pass\n",
    "elif p.name=='notebooks' and (p.parent/'Makefile').exists():\n",
    "    os.chdir(p.parent)\n",
    "print('cwd:', os.getcwd())"
   ]
  },
  {
   "cell_type": "markdown",
   "id": "d32d8a97",
   "metadata": {},
   "source": [
    "# Certainly — Bridge Doctor\n",
    "\n",
    "        Brings up the bridge container and runs the doctor script."
   ]
  },
  {
   "cell_type": "code",
   "execution_count": null,
   "id": "35acbffa",
   "metadata": {},
   "outputs": [],
   "source": [
    "import subprocess\n",
    "print('bringing up bridge…')\n",
    "subprocess.run(['bash','-lc','make certainly-bridge-up'], check=False)\n",
    "print('doctor…')\n",
    "subprocess.run(['bash','-lc','bash debug/certainly_bridge_doctor.sh'], check=False)"
   ]
  }
 ],
 "metadata": {},
 "nbformat": 4,
 "nbformat_minor": 5
}