{
 "cells": [
  {
   "cell_type": "code",
   "execution_count": null,
   "id": "727b5c91",
   "metadata": {},
   "outputs": [],
   "source": [
    "import os, pathlib\n",
    "p=pathlib.Path().resolve()\n",
    "if (p/'Makefile').exists():\n",
    "    pass\n",
    "elif p.name=='notebooks' and (p.parent/'Makefile').exists():\n",
    "    os.chdir(p.parent)\n",
    "print('cwd:', os.getcwd())"
   ]
  },
  {
   "cell_type": "markdown",
   "id": "094ea1f8",
   "metadata": {},
   "source": [
    "# Certainly — Bridge Doctor\n",
    "\n",
    "        Brings up the bridge container and runs the doctor script."
   ]
  },
  {
   "cell_type": "code",
   "execution_count": null,
   "id": "7960e47b",
   "metadata": {},
   "outputs": [],
   "source": [
    "import subprocess\n",
    "print('bringing up bridge…')\n",
    "subprocess.run(['bash','-lc','make certainly-bridge-up'], check=False)\n",
    "print('doctor…')\n",
    "subprocess.run(['bash','-lc','bash debug/certainly_bridge_doctor.sh'], check=False)"
   ]
  }
 ],
 "metadata": {},
 "nbformat": 4,
 "nbformat_minor": 5
}