{
 "cells": [
  {
   "cell_type": "code",
   "execution_count": null,
   "id": "11acb3cc",
   "metadata": {},
   "outputs": [],
   "source": [
    "import os, pathlib\n",
    "p=pathlib.Path().resolve()\n",
    "if (p/'Makefile').exists():\n",
    "    pass\n",
    "elif p.name=='notebooks' and (p.parent/'Makefile').exists():\n",
    "    os.chdir(p.parent)\n",
    "print('cwd:', os.getcwd())"
   ]
  },
  {
   "cell_type": "markdown",
   "id": "6bbca6cc",
   "metadata": {},
   "source": [
    "# CodeWorld — MCTS Scenario\n",
    "\n",
    "        Starts the bridge (local uvicorn) and runs the MCTS scenario end‑to‑end."
   ]
  },
  {
   "cell_type": "code",
   "execution_count": null,
   "id": "98042805",
   "metadata": {},
   "outputs": [],
   "source": [
    "import subprocess, sys, time, os\n",
    "# Start bridge\n",
    "p = subprocess.Popen([sys.executable,'-m','uvicorn','src.codeworld.bridge.server:app','--port','8887','--host','127.0.0.1'])\n",
    "time.sleep(1.5)\n",
    "try:\n",
    "  env = os.environ.copy()\n",
    "  env['CODEWORLD_BASE'] = 'http://127.0.0.1:8887'\n",
    "  code = subprocess.run([sys.executable,'scenarios/codeworld_mcts_chutes_autogen.py'], env=env)\n",
    "  print('mcts exit:', code.returncode)\n",
    "finally:\n",
    "  p.terminate()"
   ]
  }
 ],
 "metadata": {},
 "nbformat": 4,
 "nbformat_minor": 5
}