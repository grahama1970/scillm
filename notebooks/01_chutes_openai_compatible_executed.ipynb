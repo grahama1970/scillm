{
  "cells": [
    {
      "cell_type": "markdown",
      "metadata": {},
      "source": [
        "Run metadata (generated 2025-10-27 19:49:26Z)\n\n- SCILLM_FORCE_HTTPX_STREAM=\n- LITELLM_MAX_RETRIES=\n- LITELLM_RETRY_AFTER=\n- LITELLM_TIMEOUT=\n- SCILLM_ALLOW_TOOLS_SMOKE=\n- SCILLM_ALLOW_STREAM_SMOKE="
      ]
    },
    {
      "cell_type": "markdown",
      "id": "50bf72a2",
      "metadata": {},
      "source": [
        "### Runtime setup\n",
        "The following envs enable stable retries and quiet streaming.\n",
        "\n",
        "- `SCILLM_FORCE_HTTPX_STREAM=1`\n",
        "- `LITELLM_MAX_RETRIES=3`, `LITELLM_RETRY_AFTER=1`, `LITELLM_TIMEOUT=45`\n",
        "- Requires `tenacity` installed for backoff."
      ]
    },
    {
      "cell_type": "code",
      "execution_count": 1,
      "id": "7320b05a",
      "metadata": {
        "execution": {
          "iopub.execute_input": "2025-10-27T19:43:59.309112Z",
          "iopub.status.busy": "2025-10-27T19:43:59.309014Z",
          "iopub.status.idle": "2025-10-27T19:43:59.321699Z",
          "shell.execute_reply": "2025-10-27T19:43:59.321102Z"
        }
      },
      "outputs": [
        {
          "name": "stdout",
          "output_type": "stream",
          "text": [
            "tenacity: ok\n"
          ]
        }
      ],
      "source": [
        "import os\n",
        "os.environ.setdefault('SCILLM_FORCE_HTTPX_STREAM','1')\n",
        "os.environ.setdefault('LITELLM_MAX_RETRIES','3')\n",
        "os.environ.setdefault('LITELLM_RETRY_AFTER','1')\n",
        "os.environ.setdefault('LITELLM_TIMEOUT','45')\n",
        "try:\n",
        "    import tenacity  # noqa: F401\n",
        "    print('tenacity: ok')\n",
        "except Exception:\n",
        "    print('tenacity missing \u2014 run: pip install tenacity')\n"
      ]
    },
    {
      "cell_type": "markdown",
      "id": "45180ca5",
      "metadata": {},
      "source": [
        "# Chutes \u2014 OpenAI-Compatible\n",
        "\n",
        "        Minimal chat using the OpenAI-compatible path."
      ]
    },
    {
      "cell_type": "markdown",
      "id": "8c943c1f",
      "metadata": {},
      "source": [
        "## 1) Sync completion\n",
        "\n",
        "        Minimal, blocking call using `scillm.completion`. Good for quick sanity."
      ]
    },
    {
      "cell_type": "code",
      "execution_count": 2,
      "id": "1ea9c34c",
      "metadata": {
        "execution": {
          "iopub.execute_input": "2025-10-27T19:43:59.324116Z",
          "iopub.status.busy": "2025-10-27T19:43:59.323827Z",
          "iopub.status.idle": "2025-10-27T19:44:05.650407Z",
          "shell.execute_reply": "2025-10-27T19:44:05.649659Z"
        }
      },
      "outputs": [
        {
          "name": "stdout",
          "output_type": "stream",
          "text": [
            "OK! Let me\n"
          ]
        }
      ],
      "source": [
        "import os\n",
        "from scillm import completion\n",
        "resp = completion(\n",
        "  model=os.environ['CHUTES_MODEL'],\n",
        "  api_base=os.environ['CHUTES_API_BASE'],\n",
        "  api_key=None,\n",
        "  custom_llm_provider='openai_like',\n",
        "  # JSON for this tenant: Authorization Bearer\n",
        "  extra_headers={'Authorization': f\"Bearer {os.environ['CHUTES_API_KEY']}\"},\n",
        "  messages=[{'role':'user','content':'Say OK'}],\n",
        "  max_tokens=8,\n",
        "  temperature=0,\n",
        ")\n",
        "print(resp.choices[0].message.get('content',''))"
      ]
    }
  ],
  "metadata": {
    "language_info": {
      "codemirror_mode": {
        "name": "ipython",
        "version": 3
      },
      "file_extension": ".py",
      "mimetype": "text/x-python",
      "name": "python",
      "nbconvert_exporter": "python",
      "pygments_lexer": "ipython3",
      "version": "3.12.10"
    }
  },
  "nbformat": 4,
  "nbformat_minor": 5
}