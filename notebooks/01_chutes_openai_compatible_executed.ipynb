{
 "cells": [
  {
   "cell_type": "markdown",
   "id": "fafa84c6",
   "metadata": {},
   "source": [
    "### Runtime setup\n",
    "The following envs enable stable retries and quiet streaming.\n",
    "\n",
    "- `SCILLM_FORCE_HTTPX_STREAM=1`\n",
    "- `LITELLM_MAX_RETRIES=3`, `LITELLM_RETRY_AFTER=1`, `LITELLM_TIMEOUT=45`\n",
    "- Requires `tenacity` installed for backoff."
   ]
  },
  {
   "cell_type": "code",
   "execution_count": 1,
   "id": "014a568b",
   "metadata": {
    "execution": {
     "iopub.execute_input": "2025-10-27T22:41:42.866653Z",
     "iopub.status.busy": "2025-10-27T22:41:42.866548Z",
     "iopub.status.idle": "2025-10-27T22:41:42.876917Z",
     "shell.execute_reply": "2025-10-27T22:41:42.876305Z"
    }
   },
   "outputs": [
    {
     "name": "stdout",
     "output_type": "stream",
     "text": [
      "tenacity: ok\n"
     ]
    }
   ],
   "source": [
    "import os\n",
    "os.environ.setdefault('SCILLM_FORCE_HTTPX_STREAM','1')\n",
    "os.environ.setdefault('LITELLM_MAX_RETRIES','3')\n",
    "os.environ.setdefault('LITELLM_RETRY_AFTER','1')\n",
    "os.environ.setdefault('LITELLM_TIMEOUT','45')\n",
    "try:\n",
    "    import tenacity  # noqa: F401\n",
    "    print('tenacity: ok')\n",
    "except Exception:\n",
    "    print('tenacity missing — run: pip install tenacity')\n"
   ]
  },
  {
   "cell_type": "markdown",
   "id": "faccd874",
   "metadata": {},
   "source": [
    "# Chutes — OpenAI-Compatible\n",
    "\n",
    "        Minimal chat using the OpenAI-compatible path."
   ]
  },
  {
   "cell_type": "markdown",
   "id": "99e7fbfc",
   "metadata": {},
   "source": [
    "## 1) Sync completion\n",
    "\n",
    "        Minimal, blocking call using `scillm.completion`. Good for quick sanity."
   ]
  },
  {
   "cell_type": "code",
   "execution_count": 2,
   "id": "b4a2021e",
   "metadata": {
    "execution": {
     "iopub.execute_input": "2025-10-27T22:41:42.878736Z",
     "iopub.status.busy": "2025-10-27T22:41:42.878586Z",
     "iopub.status.idle": "2025-10-27T22:41:48.583855Z",
     "shell.execute_reply": "2025-10-27T22:41:48.582956Z"
    }
   },
   "outputs": [
    {
     "name": "stdout",
     "output_type": "stream",
     "text": [
      "OK! Let me\n"
     ]
    }
   ],
   "source": [
    "import os\n",
    "from scillm import completion\n",
    "resp = completion(\n",
    "  model=os.environ['CHUTES_MODEL'],\n",
    "  api_base=os.environ['CHUTES_API_BASE'],\n",
    "  api_key=None,\n",
    "  custom_llm_provider='openai_like',\n",
    "  # JSON for this tenant: Authorization Bearer\n",
    "  extra_headers={'Authorization': f\"Bearer {os.environ['CHUTES_API_KEY']}\"},\n",
    "  messages=[{'role':'user','content':'Say OK'}],\n",
    "  max_tokens=8,\n",
    "  temperature=0,\n",
    ")\n",
    "print(resp.choices[0].message.get('content',''))"
   ]
  }
 ],
 "metadata": {
  "language_info": {
   "codemirror_mode": {
    "name": "ipython",
    "version": 3
   },
   "file_extension": ".py",
   "mimetype": "text/x-python",
   "name": "python",
   "nbconvert_exporter": "python",
   "pygments_lexer": "ipython3",
   "version": "3.12.10"
  }
 },
 "nbformat": 4,
 "nbformat_minor": 5
}
