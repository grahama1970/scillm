{
 "cells": [
  {
   "cell_type": "markdown",
   "id": "3bb7a317",
   "metadata": {},
   "source": [
    "### Runtime setup\n",
    "The following envs enable stable retries and quiet streaming.\n",
    "\n",
    "- `SCILLM_FORCE_HTTPX_STREAM=1`\n",
    "- `LITELLM_MAX_RETRIES=3`, `LITELLM_RETRY_AFTER=1`, `LITELLM_TIMEOUT=45`\n",
    "- Requires `tenacity` installed for backoff."
   ]
  },
  {
   "cell_type": "code",
   "execution_count": 1,
   "id": "eb11a835",
   "metadata": {
    "execution": {
     "iopub.execute_input": "2025-10-27T22:50:32.771151Z",
     "iopub.status.busy": "2025-10-27T22:50:32.771053Z",
     "iopub.status.idle": "2025-10-27T22:50:32.780758Z",
     "shell.execute_reply": "2025-10-27T22:50:32.780086Z"
    }
   },
   "outputs": [
    {
     "name": "stdout",
     "output_type": "stream",
     "text": [
      "tenacity: ok\n"
     ]
    }
   ],
   "source": [
    "import os\n",
    "os.environ.setdefault('SCILLM_FORCE_HTTPX_STREAM','1')\n",
    "os.environ.setdefault('LITELLM_MAX_RETRIES','3')\n",
    "os.environ.setdefault('LITELLM_RETRY_AFTER','1')\n",
    "os.environ.setdefault('LITELLM_TIMEOUT','45')\n",
    "try:\n",
    "    import tenacity  # noqa: F401\n",
    "    print('tenacity: ok')\n",
    "except Exception:\n",
    "    print('tenacity missing — run: pip install tenacity')\n"
   ]
  },
  {
   "cell_type": "markdown",
   "id": "61631ef3",
   "metadata": {},
   "source": [
    "# Chutes — OpenAI-Compatible\n",
    "\n",
    "        Minimal chat using the OpenAI-compatible path."
   ]
  },
  {
   "cell_type": "markdown",
   "id": "317f3d7a",
   "metadata": {},
   "source": [
    "## 1) Sync completion\n",
    "\n",
    "        Minimal, blocking call using `scillm.completion`. Good for quick sanity."
   ]
  },
  {
   "cell_type": "code",
   "execution_count": 2,
   "id": "975b2981",
   "metadata": {
    "execution": {
     "iopub.execute_input": "2025-10-27T22:50:32.782815Z",
     "iopub.status.busy": "2025-10-27T22:50:32.782666Z",
     "iopub.status.idle": "2025-10-27T22:50:36.953121Z",
     "shell.execute_reply": "2025-10-27T22:50:36.952244Z"
    }
   },
   "outputs": [
    {
     "name": "stdout",
     "output_type": "stream",
     "text": [
      "OK! Let me\n"
     ]
    }
   ],
   "source": [
    "import os\n",
    "from scillm import completion\n",
    "resp = completion(\n",
    "  model=os.environ['CHUTES_MODEL'],\n",
    "  api_base=os.environ['CHUTES_API_BASE'],\n",
    "  api_key=None,\n",
    "  custom_llm_provider='openai_like',\n",
    "  # JSON for this tenant: Authorization Bearer\n",
    "  extra_headers={'Authorization': f\"Bearer {os.environ['CHUTES_API_KEY']}\"},\n",
    "  messages=[{'role':'user','content':'Say OK'}],\n",
    "  max_tokens=8,\n",
    "  temperature=0,\n",
    ")\n",
    "print(resp.choices[0].message.get('content',''))"
   ]
  }
 ],
 "metadata": {
  "language_info": {
   "codemirror_mode": {
    "name": "ipython",
    "version": 3
   },
   "file_extension": ".py",
   "mimetype": "text/x-python",
   "name": "python",
   "nbconvert_exporter": "python",
   "pygments_lexer": "ipython3",
   "version": "3.12.10"
  }
 },
 "nbformat": 4,
 "nbformat_minor": 5
}
