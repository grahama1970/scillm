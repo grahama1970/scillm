{
 "cells": [
  {
   "cell_type": "markdown",
   "id": "3bb7a317",
   "metadata": {},
   "source": [
    "### Runtime setup\n",
    "The following envs enable stable retries and quiet streaming.\n",
    "\n",
    "- `SCILLM_FORCE_HTTPX_STREAM=1`\n",
    "- `LITELLM_MAX_RETRIES=3`, `LITELLM_RETRY_AFTER=1`, `LITELLM_TIMEOUT=45`\n",
    "- Requires `tenacity` installed for backoff."
   ]
  },
  {
   "cell_type": "code",
   "execution_count": null,
   "id": "eb11a835",
   "metadata": {},
   "outputs": [],
   "source": [
    "import os\n",
    "os.environ.setdefault('SCILLM_FORCE_HTTPX_STREAM','1')\n",
    "os.environ.setdefault('LITELLM_MAX_RETRIES','3')\n",
    "os.environ.setdefault('LITELLM_RETRY_AFTER','1')\n",
    "os.environ.setdefault('LITELLM_TIMEOUT','45')\n",
    "try:\n",
    "    import tenacity  # noqa: F401\n",
    "    print('tenacity: ok')\n",
    "except Exception:\n",
    "    print('tenacity missing — run: pip install tenacity')\n"
   ]
  },
  {
   "cell_type": "markdown",
   "id": "61631ef3",
   "metadata": {},
   "source": [
    "# Chutes — OpenAI-Compatible\n",
    "\n",
    "        Minimal chat using the OpenAI-compatible path."
   ]
  },
  {
   "cell_type": "markdown",
   "id": "317f3d7a",
   "metadata": {},
   "source": [
    "## 1) Sync completion\n",
    "\n",
    "        Minimal, blocking call using `scillm.completion`. Good for quick sanity."
   ]
  },
  {
   "cell_type": "code",
   "execution_count": null,
   "id": "975b2981",
   "metadata": {},
   "outputs": [],
   "source": [
    "import os\n",
    "from scillm import completion\n",
    "resp = completion(\n",
    "  model=os.environ['CHUTES_MODEL'],\n",
    "  api_base=os.environ['CHUTES_API_BASE'],\n",
    "  api_key=None,\n",
    "  custom_llm_provider='openai_like',\n",
    "  # JSON for this tenant: Authorization Bearer\n",
    "  extra_headers={'Authorization': f\"Bearer {os.environ['CHUTES_API_KEY']}\"},\n",
    "  messages=[{'role':'user','content':'Say OK'}],\n",
    "  max_tokens=8,\n",
    "  temperature=0,\n",
    ")\n",
    "print(resp.choices[0].message.get('content',''))"
   ]
  }
 ],
 "metadata": {},
 "nbformat": 4,
 "nbformat_minor": 5
}