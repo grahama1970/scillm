{
 "cells": [
  {
   "cell_type": "markdown",
   "id": "e6ce4191",
   "metadata": {},
   "source": [
    "# Chutes — OpenAI-Compatible\n",
    "\n",
    "        Minimal chat using the OpenAI-compatible path."
   ]
  },
  {
   "cell_type": "code",
   "execution_count": null,
   "id": "1ee5023b",
   "metadata": {},
   "outputs": [],
   "source": [
    "import os, litellm\n",
    "resp = litellm.completion(\n",
    "  model=os.environ['CHUTES_MODEL'],\n",
    "  api_base=os.environ['CHUTES_API_BASE'],\n",
    "  api_key=None,\n",
    "  custom_llm_provider='openai_like',\n",
    "  extra_headers={'x-api-key': os.environ['CHUTES_API_KEY'], 'Authorization': os.environ['CHUTES_API_KEY']},\n",
    "  messages=[{'role':'user','content':'Say OK'}],\n",
    "  max_tokens=8,\n",
    "  temperature=0,\n",
    ")\n",
    "print(resp.choices[0].message.get('content',''))"
   ]
  }
 ],
 "metadata": {},
 "nbformat": 4,
 "nbformat_minor": 5
}