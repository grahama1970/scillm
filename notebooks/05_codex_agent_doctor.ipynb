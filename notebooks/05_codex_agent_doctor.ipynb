{
 "cells": [
  {
   "cell_type": "code",
   "execution_count": null,
   "id": "9479fca6",
   "metadata": {},
   "outputs": [],
   "source": [
    "import os, pathlib\n",
    "# Ensure working directory is repo root for relative paths\n",
    "p=pathlib.Path().resolve()\n",
    "if (p/'Makefile').exists():\n",
    "    pass\n",
    "elif p.name=='notebooks' and (p.parent/'Makefile').exists():\n",
    "    os.chdir(p.parent)\n",
    "print('cwd:', os.getcwd())"
   ]
  },
  {
   "cell_type": "markdown",
   "id": "d778f0ea",
   "metadata": {},
   "source": [
    "# Codex‑Agent — Doctor\n",
    "\n",
    "        Verifies the Codex Agent surface is healthy and can complete a JSON chat."
   ]
  },
  {
   "cell_type": "code",
   "execution_count": null,
   "id": "508786be",
   "metadata": {},
   "outputs": [],
   "source": [
    "# 1) Health\n",
    "import os, json, subprocess, sys\n",
    "base = os.environ.get('CODEX_AGENT_API_BASE', 'http://127.0.0.1:8790')\n",
    "code = subprocess.run(['bash','-lc', f\"curl -fsS {base}/healthz\"], capture_output=True, text=True)\n",
    "print('healthz:', code.stdout.strip())"
   ]
  },
  {
   "cell_type": "code",
   "execution_count": null,
   "id": "0a1f8446",
   "metadata": {},
   "outputs": [],
   "source": [
    "# 2) Doctor\n",
    "import runpy\n",
    "out = runpy.run_path('debug/codex_agent_doctor.py')\n",
    "print(out.get('status','doctor: unknown'))"
   ]
  },
  {
   "cell_type": "code",
   "execution_count": null,
   "id": "410088aa",
   "metadata": {},
   "outputs": [],
   "source": [
    "# 3) Minimal JSON chat via scillm\n",
    "import os\n",
    "from scillm import completion\n",
    "resp = completion(\n",
    "  model=os.environ.get('CHUTES_MODEL'),\n",
    "  api_base=os.environ.get('CHUTES_API_BASE'),\n",
    "  api_key=None,\n",
    "  custom_llm_provider='openai_like',\n",
    "  api_key=os.environ.get('CHUTES_API_KEY',''),\n",
    "  messages=[{'role':'user','content':'Return only {\"ok\":true} as JSON.'}],\n",
    "  response_format={'type':'json_object'},\n",
    "  temperature=0,\n",
    "  max_tokens=8,\n",
    ")\n",
    "print(resp.choices[0].message.get('content',''))"
   ]
  }
 ],
 "metadata": {},
 "nbformat": 4,
 "nbformat_minor": 5
}