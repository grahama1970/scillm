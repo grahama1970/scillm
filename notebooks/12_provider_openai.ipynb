{
 "cells": [
  {
   "cell_type": "markdown",
   "id": "66d3dcba",
   "metadata": {},
   "source": [
    "### Runtime setup\n",
    "The following envs enable stable retries and quiet streaming.\n",
    "\n",
    "- `SCILLM_FORCE_HTTPX_STREAM=1`\n",
    "- `LITELLM_MAX_RETRIES=3`, `LITELLM_RETRY_AFTER=1`, `LITELLM_TIMEOUT=45`\n",
    "- Requires `tenacity` installed for backoff."
   ]
  },
  {
   "cell_type": "code",
   "execution_count": null,
   "id": "bfdbad1a",
   "metadata": {},
   "outputs": [],
   "source": [
    "import os\n",
    "os.environ.setdefault('SCILLM_FORCE_HTTPX_STREAM','1')\n",
    "os.environ.setdefault('LITELLM_MAX_RETRIES','3')\n",
    "os.environ.setdefault('LITELLM_RETRY_AFTER','1')\n",
    "os.environ.setdefault('LITELLM_TIMEOUT','45')\n",
    "try:\n",
    "    import tenacity  # noqa: F401\n",
    "    print('tenacity: ok')\n",
    "except Exception:\n",
    "    print('tenacity missing — run: pip install tenacity')\n"
   ]
  },
  {
   "cell_type": "markdown",
   "id": "a0826c96",
   "metadata": {},
   "source": [
    "# Litellm Provider — OpenAI (normal models)\n",
    "\n",
    "        Minimal OpenAI call using Bearer auth to api.openai.com.\n",
    "        Requires `OPENAI_API_KEY` and optional `OPENAI_MODEL` (default `gpt-4o-mini`)."
   ]
  },
  {
   "cell_type": "code",
   "execution_count": null,
   "id": "d3060a8d",
   "metadata": {},
   "outputs": [],
   "source": [
    "import os\n",
    "from scillm import completion\n",
    "key = os.environ.get('OPENAI_API_KEY','')\n",
    "model = os.environ.get('OPENAI_MODEL','gpt-4o-mini')\n",
    "if not key:\n",
    "  print('OPENAI_API_KEY not set — skipping live call')\n",
    "else:\n",
    "  resp = completion(\n",
    "    model=model,\n",
    "    custom_llm_provider='openai',\n",
    "    api_key=key,\n",
    "    messages=[{'role':'user','content':'In one word, say OK'}],\n",
    "    max_tokens=8,\n",
    "    temperature=0,\n",
    "  )\n",
    "  print(resp.choices[0].message.get('content',''))"
   ]
  }
 ],
 "metadata": {},
 "nbformat": 4,
 "nbformat_minor": 5
}