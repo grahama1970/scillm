{
  "cells": [
    {
      "cell_type": "markdown",
      "metadata": {},
      "source": [
        "Run metadata (generated 2025-10-27 19:49:26Z)\n\n- SCILLM_FORCE_HTTPX_STREAM=\n- LITELLM_MAX_RETRIES=\n- LITELLM_RETRY_AFTER=\n- LITELLM_TIMEOUT=\n- SCILLM_ALLOW_TOOLS_SMOKE=\n- SCILLM_ALLOW_STREAM_SMOKE="
      ]
    },
    {
      "cell_type": "code",
      "execution_count": 1,
      "id": "11acb3cc",
      "metadata": {
        "execution": {
          "iopub.execute_input": "2025-10-27T19:45:39.420505Z",
          "iopub.status.busy": "2025-10-27T19:45:39.420362Z",
          "iopub.status.idle": "2025-10-27T19:45:39.423695Z",
          "shell.execute_reply": "2025-10-27T19:45:39.423255Z"
        }
      },
      "outputs": [
        {
          "name": "stdout",
          "output_type": "stream",
          "text": [
            "cwd: /home/graham/workspace/experiments/litellm\n"
          ]
        }
      ],
      "source": [
        "import os, pathlib\n",
        "p=pathlib.Path().resolve()\n",
        "if (p/'Makefile').exists():\n",
        "    pass\n",
        "elif p.name=='notebooks' and (p.parent/'Makefile').exists():\n",
        "    os.chdir(p.parent)\n",
        "print('cwd:', os.getcwd())"
      ]
    },
    {
      "cell_type": "markdown",
      "id": "6bbca6cc",
      "metadata": {},
      "source": [
        "# CodeWorld \u2014 MCTS Scenario\n",
        "\n",
        "        Starts the bridge (local uvicorn) and runs the MCTS scenario end\u2011to\u2011end."
      ]
    },
    {
      "cell_type": "code",
      "execution_count": 2,
      "id": "98042805",
      "metadata": {
        "execution": {
          "iopub.execute_input": "2025-10-27T19:45:39.424857Z",
          "iopub.status.busy": "2025-10-27T19:45:39.424755Z",
          "iopub.status.idle": "2025-10-27T19:45:41.133216Z",
          "shell.execute_reply": "2025-10-27T19:45:41.132481Z"
        }
      },
      "outputs": [
        {
          "name": "stderr",
          "output_type": "stream",
          "text": [
            "INFO:     Started server process [2471570]\n",
            "INFO:     Waiting for application startup.\n",
            "INFO:     Application startup complete.\n",
            "ERROR:    [Errno 98] error while attempting to bind on address ('127.0.0.1', 8887): [errno 98] address already in use\n",
            "INFO:     Waiting for application shutdown.\n",
            "INFO:     Application shutdown complete.\n"
          ]
        },
        {
          "name": "stdout",
          "output_type": "stream",
          "text": [
            "OK 0\n",
            "mcts exit: 31\n"
          ]
        }
      ],
      "source": [
        "import subprocess, sys, time, os\n",
        "# Start bridge\n",
        "p = subprocess.Popen([sys.executable,'-m','uvicorn','src.codeworld.bridge.server:app','--port','8887','--host','127.0.0.1'])\n",
        "time.sleep(1.5)\n",
        "try:\n",
        "  env = os.environ.copy()\n",
        "  env['CODEWORLD_BASE'] = 'http://127.0.0.1:8887'\n",
        "  code = subprocess.run([sys.executable,'scenarios/codeworld_mcts_chutes_autogen.py'], env=env)\n",
        "  print('mcts exit:', code.returncode)\n",
        "finally:\n",
        "  p.terminate()"
      ]
    }
  ],
  "metadata": {
    "language_info": {
      "codemirror_mode": {
        "name": "ipython",
        "version": 3
      },
      "file_extension": ".py",
      "mimetype": "text/x-python",
      "name": "python",
      "nbconvert_exporter": "python",
      "pygments_lexer": "ipython3",
      "version": "3.12.10"
    }
  },
  "nbformat": 4,
  "nbformat_minor": 5
}