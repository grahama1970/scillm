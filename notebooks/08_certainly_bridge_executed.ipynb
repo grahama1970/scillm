{
  "cells": [
    {
      "cell_type": "markdown",
      "metadata": {},
      "source": [
        "Run metadata (generated 2025-10-27 19:49:26Z)\n\n- SCILLM_FORCE_HTTPX_STREAM=\n- LITELLM_MAX_RETRIES=\n- LITELLM_RETRY_AFTER=\n- LITELLM_TIMEOUT=\n- SCILLM_ALLOW_TOOLS_SMOKE=\n- SCILLM_ALLOW_STREAM_SMOKE="
      ]
    },
    {
      "cell_type": "code",
      "execution_count": 1,
      "id": "727b5c91",
      "metadata": {
        "execution": {
          "iopub.execute_input": "2025-10-27T19:45:43.045916Z",
          "iopub.status.busy": "2025-10-27T19:45:43.045807Z",
          "iopub.status.idle": "2025-10-27T19:45:43.049606Z",
          "shell.execute_reply": "2025-10-27T19:45:43.049042Z"
        }
      },
      "outputs": [
        {
          "name": "stdout",
          "output_type": "stream",
          "text": [
            "cwd: /home/graham/workspace/experiments/litellm\n"
          ]
        }
      ],
      "source": [
        "import os, pathlib\n",
        "p=pathlib.Path().resolve()\n",
        "if (p/'Makefile').exists():\n",
        "    pass\n",
        "elif p.name=='notebooks' and (p.parent/'Makefile').exists():\n",
        "    os.chdir(p.parent)\n",
        "print('cwd:', os.getcwd())"
      ]
    },
    {
      "cell_type": "markdown",
      "id": "094ea1f8",
      "metadata": {},
      "source": [
        "# Certainly \u2014 Bridge Doctor\n",
        "\n",
        "        Brings up the bridge container and runs the doctor script."
      ]
    },
    {
      "cell_type": "code",
      "execution_count": 2,
      "id": "7960e47b",
      "metadata": {
        "execution": {
          "iopub.execute_input": "2025-10-27T19:45:43.051898Z",
          "iopub.status.busy": "2025-10-27T19:45:43.051765Z",
          "iopub.status.idle": "2025-10-27T19:45:43.220018Z",
          "shell.execute_reply": "2025-10-27T19:45:43.219356Z"
        }
      },
      "outputs": [
        {
          "name": "stdout",
          "output_type": "stream",
          "text": [
            "bringing up bridge\u2026\n",
            "doctor\u2026\n",
            "[doctor] CERTAINLY_BRIDGE_BASE=http://127.0.0.1:8791\n",
            "[doctor] GET http://127.0.0.1:8791/healthz\n",
            "HTTP 200 {\"ok\":true,\"details\":{\"repo\":\"/lean4\",\"repo_exists\":true,\"default_timeout\":300.0}}\n",
            "[doctor] POST http://127.0.0.1:8791/bridge/complete\n",
            "HTTP 200 {\"summary\":{\"items\":1,\"proved\":1,\"failed\":0,\"unproved\":0},\"statistics\":{\"successful_proofs\":1,\"failed_proofs\":0,\"unproved\":0},\"proof_results\":[{\"id\":\"item-1\",\"o\n",
            "[doctor] PASS proved>=1\n"
          ]
        },
        {
          "name": "stderr",
          "output_type": "stream",
          "text": [
            "make[1]: *** No rule to make target 'certainly-bridge-up'.  Stop.\n"
          ]
        },
        {
          "data": {
            "text/plain": [
              "CompletedProcess(args=['bash', '-lc', 'bash debug/certainly_bridge_doctor.sh'], returncode=0)"
            ]
          },
          "execution_count": 2,
          "metadata": {},
          "output_type": "execute_result"
        }
      ],
      "source": [
        "import subprocess\n",
        "print('bringing up bridge\u2026')\n",
        "subprocess.run(['bash','-lc','make certainly-bridge-up'], check=False)\n",
        "print('doctor\u2026')\n",
        "subprocess.run(['bash','-lc','bash debug/certainly_bridge_doctor.sh'], check=False)"
      ]
    }
  ],
  "metadata": {
    "language_info": {
      "codemirror_mode": {
        "name": "ipython",
        "version": 3
      },
      "file_extension": ".py",
      "mimetype": "text/x-python",
      "name": "python",
      "nbconvert_exporter": "python",
      "pygments_lexer": "ipython3",
      "version": "3.12.10"
    }
  },
  "nbformat": 4,
  "nbformat_minor": 5
}