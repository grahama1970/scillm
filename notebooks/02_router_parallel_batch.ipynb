{
 "cells": [
  {
   "cell_type": "markdown",
   "id": "95832caa",
   "metadata": {},
   "source": [
    "### Runtime setup\n",
    "The following envs enable stable retries and quiet streaming.\n",
    "\n",
    "- `SCILLM_FORCE_HTTPX_STREAM=1`\n",
    "- `LITELLM_MAX_RETRIES=3`, `LITELLM_RETRY_AFTER=1`, `LITELLM_TIMEOUT=45`\n",
    "- Requires `tenacity` installed for backoff."
   ]
  },
  {
   "cell_type": "code",
   "execution_count": null,
   "id": "b94e7945",
   "metadata": {},
   "outputs": [],
   "source": [
    "import os\n",
    "os.environ.setdefault('SCILLM_FORCE_HTTPX_STREAM','1')\n",
    "os.environ.setdefault('LITELLM_MAX_RETRIES','3')\n",
    "os.environ.setdefault('LITELLM_RETRY_AFTER','1')\n",
    "os.environ.setdefault('LITELLM_TIMEOUT','45')\n",
    "try:\n",
    "    import tenacity  # noqa: F401\n",
    "    print('tenacity: ok')\n",
    "except Exception:\n",
    "    print('tenacity missing — run: pip install tenacity')\n"
   ]
  },
  {
   "cell_type": "markdown",
   "id": "d323c2fb",
   "metadata": {},
   "source": [
    "# Router.parallel_acompletions"
   ]
  },
  {
   "cell_type": "code",
   "execution_count": null,
   "id": "79e10c10",
   "metadata": {},
   "outputs": [],
   "source": [
    "import os, asyncio\n",
    "import nest_asyncio; nest_asyncio.apply()\n",
    "from scillm import Router\n",
    "router = Router(default_litellm_params={\n",
    "  'api_base': os.environ['CHUTES_API_BASE'],\n",
    "  'api_key': None,\n",
    "  'custom_llm_provider': 'openai_like',\n",
    "  'extra_headers': {'Authorization': f\"Bearer {os.environ['CHUTES_API_KEY']}\"},\n",
    "})\n",
    "prompts = ['OK-A','OK-B','OK-C']\n",
    "reqs = [{\n",
    "  'model': os.environ['CHUTES_MODEL'],\n",
    "  'messages': [{'role':'user','content': p}],\n",
    "  'kwargs': {'max_tokens': 8, 'temperature': 0, 'timeout': 20}\n",
    "} for p in prompts]\n",
    "async def run():\n",
    "  outs = await router.parallel_acompletions(requests=reqs, concurrency=2)\n",
    "  print([ (o.get('choices',[{}])[0].get('message',{}).get('content','') or '').strip() for o in outs ])\n",
    "loop = asyncio.get_event_loop()\n",
    "loop.run_until_complete(run())"
   ]
  }
 ],
 "metadata": {},
 "nbformat": 4,
 "nbformat_minor": 5
}