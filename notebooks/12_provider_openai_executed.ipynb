{
  "cells": [
    {
      "cell_type": "markdown",
      "metadata": {},
      "source": [
        "Run metadata (generated 2025-10-27 20:39:43Z)\n\n- SCILLM_FORCE_HTTPX_STREAM=\n- LITELLM_MAX_RETRIES=\n- LITELLM_RETRY_AFTER=\n- LITELLM_TIMEOUT=\n- SCILLM_ALLOW_TOOLS_SMOKE=\n- SCILLM_ALLOW_STREAM_SMOKE="
      ]
    },
    {
      "cell_type": "markdown",
      "id": "60878b74",
      "metadata": {},
      "source": [
        "### Runtime setup\n",
        "The following envs enable stable retries and quiet streaming.\n",
        "\n",
        "- `SCILLM_FORCE_HTTPX_STREAM=1`\n",
        "- `LITELLM_MAX_RETRIES=3`, `LITELLM_RETRY_AFTER=1`, `LITELLM_TIMEOUT=45`\n",
        "- Requires `tenacity` installed for backoff."
      ]
    },
    {
      "cell_type": "code",
      "execution_count": 1,
      "id": "4e0eb96d",
      "metadata": {
        "execution": {
          "iopub.execute_input": "2025-10-27T19:56:42.394478Z",
          "iopub.status.busy": "2025-10-27T19:56:42.394374Z",
          "iopub.status.idle": "2025-10-27T19:56:42.401883Z",
          "shell.execute_reply": "2025-10-27T19:56:42.401292Z"
        }
      },
      "outputs": [
        {
          "name": "stdout",
          "output_type": "stream",
          "text": [
            "tenacity: ok\n"
          ]
        }
      ],
      "source": [
        "import os\n",
        "os.environ.setdefault('SCILLM_FORCE_HTTPX_STREAM','1')\n",
        "os.environ.setdefault('LITELLM_MAX_RETRIES','3')\n",
        "os.environ.setdefault('LITELLM_RETRY_AFTER','1')\n",
        "os.environ.setdefault('LITELLM_TIMEOUT','45')\n",
        "try:\n",
        "    import tenacity  # noqa: F401\n",
        "    print('tenacity: ok')\n",
        "except Exception:\n",
        "    print('tenacity missing \u2014 run: pip install tenacity')\n"
      ]
    },
    {
      "cell_type": "markdown",
      "id": "5db4edcc",
      "metadata": {},
      "source": [
        "# Litellm Provider \u2014 OpenAI (normal models)\n",
        "\n",
        "        Minimal OpenAI call using Bearer auth to api.openai.com.\n",
        "        Requires `OPENAI_API_KEY` and optional `OPENAI_MODEL` (default `gpt-4o-mini`)."
      ]
    },
    {
      "cell_type": "markdown",
      "id": "9a31c9bc",
      "metadata": {},
      "source": [
        "### Why/When/Gotchas/Troubleshooting\n",
        "- Why: litellm-native OpenAI provider through SciLLM for standard chat.\n",
        "- When: you need baseline OpenAI behavior (JSON/chat/stream).\n",
        "- Gotchas: 401 \u2192 check OPENAI_API_KEY; org/project scoping may block; rate limits \u2192 set max_retries/retry_after; base defaults to api.openai.com.\n",
        "- Troubleshooting: run a curl to /v1/models with Bearer; verify model id and account access."
      ]
    },
    {
      "cell_type": "code",
      "execution_count": 2,
      "id": "780f99ee",
      "metadata": {
        "execution": {
          "iopub.execute_input": "2025-10-27T19:56:42.403781Z",
          "iopub.status.busy": "2025-10-27T19:56:42.403681Z",
          "iopub.status.idle": "2025-10-27T19:56:43.754395Z",
          "shell.execute_reply": "2025-10-27T19:56:43.753723Z"
        }
      },
      "outputs": [
        {
          "name": "stdout",
          "output_type": "stream",
          "text": [
            "OPENAI_API_KEY not set \u2014 skipping live call\n"
          ]
        }
      ],
      "source": [
        "import os\n",
        "from scillm import completion\n",
        "key = os.environ.get('OPENAI_API_KEY','')\n",
        "model = os.environ.get('OPENAI_MODEL','gpt-4o-mini')\n",
        "if not key:\n",
        "  print('OPENAI_API_KEY not set \u2014 skipping live call')\n",
        "else:\n",
        "  resp = completion(\n",
        "    model=model,\n",
        "    custom_llm_provider='openai',\n",
        "    api_key=key,\n",
        "    messages=[{'role':'user','content':'In one word, say OK'}],\n",
        "    max_tokens=8,\n",
        "    temperature=0,\n",
        "  )\n",
        "  print(resp.choices[0].message.get('content',''))"
      ]
    }
  ],
  "metadata": {
    "language_info": {
      "codemirror_mode": {
        "name": "ipython",
        "version": 3
      },
      "file_extension": ".py",
      "mimetype": "text/x-python",
      "name": "python",
      "nbconvert_exporter": "python",
      "pygments_lexer": "ipython3",
      "version": "3.12.10"
    }
  },
  "nbformat": 4,
  "nbformat_minor": 5
}