{
  "cells": [
    {
      "cell_type": "markdown",
      "metadata": {},
      "source": [
        "Run metadata (generated 2025-10-27 19:49:26Z)\n\n- SCILLM_FORCE_HTTPX_STREAM=\n- LITELLM_MAX_RETRIES=\n- LITELLM_RETRY_AFTER=\n- LITELLM_TIMEOUT=\n- SCILLM_ALLOW_TOOLS_SMOKE=\n- SCILLM_ALLOW_STREAM_SMOKE="
      ]
    },
    {
      "cell_type": "markdown",
      "id": "9215fa52",
      "metadata": {},
      "source": [
        "### Runtime setup\n",
        "The following envs enable stable retries and quiet streaming.\n",
        "\n",
        "- `SCILLM_FORCE_HTTPX_STREAM=1`\n",
        "- `LITELLM_MAX_RETRIES=3`, `LITELLM_RETRY_AFTER=1`, `LITELLM_TIMEOUT=45`\n",
        "- Requires `tenacity` installed for backoff."
      ]
    },
    {
      "cell_type": "code",
      "execution_count": 1,
      "id": "1f5b6400",
      "metadata": {
        "execution": {
          "iopub.execute_input": "2025-10-27T19:45:08.231063Z",
          "iopub.status.busy": "2025-10-27T19:45:08.230968Z",
          "iopub.status.idle": "2025-10-27T19:45:08.238199Z",
          "shell.execute_reply": "2025-10-27T19:45:08.237690Z"
        }
      },
      "outputs": [
        {
          "name": "stdout",
          "output_type": "stream",
          "text": [
            "tenacity: ok\n"
          ]
        }
      ],
      "source": [
        "import os\n",
        "os.environ.setdefault('SCILLM_FORCE_HTTPX_STREAM','1')\n",
        "os.environ.setdefault('LITELLM_MAX_RETRIES','3')\n",
        "os.environ.setdefault('LITELLM_RETRY_AFTER','1')\n",
        "os.environ.setdefault('LITELLM_TIMEOUT','45')\n",
        "try:\n",
        "    import tenacity  # noqa: F401\n",
        "    print('tenacity: ok')\n",
        "except Exception:\n",
        "    print('tenacity missing \u2014 run: pip install tenacity')\n"
      ]
    },
    {
      "cell_type": "markdown",
      "id": "3a3ed3fa",
      "metadata": {},
      "source": [
        "# Provider Matrix \u2014 OpenAI, Anthropic, Perplexity, Chutes\n",
        "\n",
        "        Runs a minimal inference for common providers and a Chutes call with attribution.\n",
        "        Only executes sections where required env vars are present."
      ]
    },
    {
      "cell_type": "code",
      "execution_count": 2,
      "id": "605dadef",
      "metadata": {
        "execution": {
          "iopub.execute_input": "2025-10-27T19:45:08.239440Z",
          "iopub.status.busy": "2025-10-27T19:45:08.239342Z",
          "iopub.status.idle": "2025-10-27T19:45:17.160809Z",
          "shell.execute_reply": "2025-10-27T19:45:17.159952Z"
        }
      },
      "outputs": [
        {
          "name": "stdout",
          "output_type": "stream",
          "text": [
            "[openai] OPENAI_API_KEY not set \u2014 skipped\n"
          ]
        },
        {
          "name": "stdout",
          "output_type": "stream",
          "text": [
            "\n",
            "\u001b[1;31mGive Feedback / Get Help: https://github.com/BerriAI/litellm/issues/new\u001b[0m\n",
            "LiteLLM.Info: If you need to debug this error, use `litellm._turn_on_debug()'.\n",
            "\n",
            "[anthropic] error \u2014 litellm.AuthenticationError: AnthropicException - {\"type\":\"error\",\"error\":{\"type\":\"authentication_error\",\"message\":\"invalid x-api-key\"},\"request_id\":\"req_011CUY\n"
          ]
        },
        {
          "name": "stdout",
          "output_type": "stream",
          "text": [
            "[perplexity] content= OK\n",
            "[perplexity] served_model= perplexity/sonar\n"
          ]
        },
        {
          "name": "stdout",
          "output_type": "stream",
          "text": [
            "[chutes] content= {\"ok\":true}\n",
            "[chutes] served_model= openai_like/Alibaba-NLP/Tongyi-DeepResearch-30B-A3B\n",
            "[chutes] meta= {\n",
            "  \"routing\": \"router\",\n",
            "  \"preferred\": \"chutes-1:Alibaba-NLP/Tongyi-DeepResearch-30B-A3B\",\n",
            "  \"served_model\": \"openai_like/Alibaba-NLP/Tongyi-DeepResearch-30B-A3B\",\n",
            "  \"attempts\": []\n",
            "}\n"
          ]
        }
      ],
      "source": [
        "import os, json\n",
        "from scillm import completion\n",
        "from scillm.extras import infer_with_fallback\n",
        "\n",
        "def _print_resp(tag, resp):\n",
        "    try:\n",
        "        content = resp.choices[0].message.get('content','')\n",
        "    except Exception:\n",
        "        content = str(resp)\n",
        "    served = getattr(resp,'model', None) or (resp.get('model') if isinstance(resp,dict) else None)\n",
        "    print(f\"[{tag}] content=\", content)\n",
        "    if served:\n",
        "        print(f\"[{tag}] served_model=\", served)\n",
        "\n",
        "# OpenAI\n",
        "ok = os.environ.get('OPENAI_API_KEY')\n",
        "if ok:\n",
        "    try:\n",
        "        r = completion(\n",
        "            model=os.environ.get('OPENAI_MODEL','gpt-4o-mini'),\n",
        "            custom_llm_provider='openai',\n",
        "            api_key=ok,\n",
        "            messages=[{'role':'user','content':'In one word, say OK'}],\n",
        "            max_tokens=8, temperature=0,\n",
        "        )\n",
        "        _print_resp('openai', r)\n",
        "    except Exception as e:\n",
        "        print('[openai] error \u2014', str(e)[:160])\n",
        "else:\n",
        "    print('[openai] OPENAI_API_KEY not set \u2014 skipped')\n",
        "\n",
        "# Anthropic\n",
        "ak = os.environ.get('ANTHROPIC_API_KEY')\n",
        "if ak:\n",
        "    try:\n",
        "        r = completion(\n",
        "            model=os.environ.get('ANTHROPIC_MODEL','claude-3-haiku-20240307'),\n",
        "            custom_llm_provider='anthropic',\n",
        "            api_key=ak,\n",
        "            messages=[{'role':'user','content':'In one word, say OK'}],\n",
        "            max_tokens=8, temperature=0,\n",
        "        )\n",
        "        _print_resp('anthropic', r)\n",
        "    except Exception as e:\n",
        "        print('[anthropic] error \u2014', str(e)[:160])\n",
        "else:\n",
        "    print('[anthropic] ANTHROPIC_API_KEY not set \u2014 skipped')\n",
        "\n",
        "# Perplexity\n",
        "pk = os.environ.get('PERPLEXITY_API_KEY')\n",
        "if pk:\n",
        "    try:\n",
        "        r = completion(\n",
        "            model=os.environ.get('PERPLEXITY_MODEL','sonar'),\n",
        "            custom_llm_provider='perplexity',\n",
        "            api_key=pk,\n",
        "            messages=[{'role':'user','content':'In one word, say OK'}],\n",
        "            max_tokens=8, temperature=0,\n",
        "        )\n",
        "        _print_resp('perplexity', r)\n",
        "    except Exception as e:\n",
        "        print('[perplexity] error \u2014', str(e)[:160])\n",
        "else:\n",
        "    print('[perplexity] PERPLEXITY_API_KEY not set \u2014 skipped')\n",
        "\n",
        "# Chutes (OpenAI-compatible) with attribution-first fallback\n",
        "cb = os.environ.get('CHUTES_API_BASE_1') or os.environ.get('CHUTES_API_BASE')\n",
        "ck = os.environ.get('CHUTES_API_KEY_1') or os.environ.get('CHUTES_API_KEY')\n",
        "if cb and ck:\n",
        "    r, meta = infer_with_fallback(\n",
        "        messages=[{'role':'user','content':'Return only {\"ok\":true} as JSON.'}],\n",
        "        kind='text', require_json=True,\n",
        "        max_retries=3, retry_after=1, timeout=45,\n",
        "    )\n",
        "    _print_resp('chutes', r)\n",
        "    print('[chutes] meta=', json.dumps(meta, indent=2))\n",
        "else:\n",
        "    print('[chutes] CHUTES_API_BASE/CHUTES_API_KEY not set \u2014 skipped')"
      ]
    }
  ],
  "metadata": {
    "language_info": {
      "codemirror_mode": {
        "name": "ipython",
        "version": 3
      },
      "file_extension": ".py",
      "mimetype": "text/x-python",
      "name": "python",
      "nbconvert_exporter": "python",
      "pygments_lexer": "ipython3",
      "version": "3.12.10"
    }
  },
  "nbformat": 4,
  "nbformat_minor": 5
}