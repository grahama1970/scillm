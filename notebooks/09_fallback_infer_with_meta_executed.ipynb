{
 "cells": [
  {
   "cell_type": "markdown",
   "id": "32fa962c",
   "metadata": {},
   "source": [
    "### Runtime setup\n",
    "The following envs enable stable retries and quiet streaming.\n",
    "\n",
    "- `SCILLM_FORCE_HTTPX_STREAM=1`\n",
    "- `LITELLM_MAX_RETRIES=3`, `LITELLM_RETRY_AFTER=1`, `LITELLM_TIMEOUT=45`\n",
    "- Requires `tenacity` installed for backoff."
   ]
  },
  {
   "cell_type": "code",
   "execution_count": 1,
   "id": "75ca04ba",
   "metadata": {
    "execution": {
     "iopub.execute_input": "2025-10-27T22:42:06.189413Z",
     "iopub.status.busy": "2025-10-27T22:42:06.189229Z",
     "iopub.status.idle": "2025-10-27T22:42:06.199003Z",
     "shell.execute_reply": "2025-10-27T22:42:06.198274Z"
    }
   },
   "outputs": [
    {
     "name": "stdout",
     "output_type": "stream",
     "text": [
      "tenacity: ok\n"
     ]
    }
   ],
   "source": [
    "import os\n",
    "os.environ.setdefault('SCILLM_FORCE_HTTPX_STREAM','1')\n",
    "os.environ.setdefault('LITELLM_MAX_RETRIES','3')\n",
    "os.environ.setdefault('LITELLM_RETRY_AFTER','1')\n",
    "os.environ.setdefault('LITELLM_TIMEOUT','45')\n",
    "try:\n",
    "    import tenacity  # noqa: F401\n",
    "    print('tenacity: ok')\n",
    "except Exception:\n",
    "    print('tenacity missing — run: pip install tenacity')\n"
   ]
  },
  {
   "cell_type": "markdown",
   "id": "028bbca5",
   "metadata": {},
   "source": [
    "# Fallback Inference with Attribution\n",
    "\n",
    "        Demonstrates automatic dynamic selection, fallbacks, and `scillm_meta` attribution."
   ]
  },
  {
   "cell_type": "code",
   "execution_count": 2,
   "id": "d39a31ce",
   "metadata": {
    "execution": {
     "iopub.execute_input": "2025-10-27T22:42:06.200771Z",
     "iopub.status.busy": "2025-10-27T22:42:06.200627Z",
     "iopub.status.idle": "2025-10-27T22:42:12.067629Z",
     "shell.execute_reply": "2025-10-27T22:42:12.066527Z"
    }
   },
   "outputs": [
    {
     "name": "stdout",
     "output_type": "stream",
     "text": [
      "content: {\"ok\":true}\n",
      "meta: {'routing': 'router', 'preferred': 'chutes-1:Alibaba-NLP/Tongyi-DeepResearch-30B-A3B', 'served_model': 'openai_like/Alibaba-NLP/Tongyi-DeepResearch-30B-A3B', 'attempts': []}\n"
     ]
    }
   ],
   "source": [
    "import os\n",
    "from scillm.extras import infer_with_fallback\n",
    "\n",
    "resp, meta = infer_with_fallback(\n",
    "    messages=[{'role':'user','content':'Return only {\"ok\":true} as JSON.'}],\n",
    "    kind='text',\n",
    "    require_json=True,\n",
    "    max_retries=3, retry_after=1, timeout=45,\n",
    ")\n",
    "print('content:', resp.choices[0].message.get('content',''))\n",
    "print('meta:', meta)"
   ]
  }
 ],
 "metadata": {
  "language_info": {
   "codemirror_mode": {
    "name": "ipython",
    "version": 3
   },
   "file_extension": ".py",
   "mimetype": "text/x-python",
   "name": "python",
   "nbconvert_exporter": "python",
   "pygments_lexer": "ipython3",
   "version": "3.12.10"
  }
 },
 "nbformat": 4,
 "nbformat_minor": 5
}
