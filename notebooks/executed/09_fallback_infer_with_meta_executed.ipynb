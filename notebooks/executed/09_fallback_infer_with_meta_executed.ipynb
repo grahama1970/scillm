{
 "cells": [
  {
   "cell_type": "markdown",
   "id": "4129e66b",
   "metadata": {},
   "source": [
    "### Runtime setup\n",
    "The following envs enable stable retries and quiet streaming.\n",
    "\n",
    "- `SCILLM_DISABLE_AIOHTTP=1` (httpx-only async stability)\n",
    "- `SCILLM_FORCE_HTTPX_STREAM=1`\n",
    "- `LITELLM_MAX_RETRIES=3`, `LITELLM_RETRY_AFTER=1`, `LITELLM_TIMEOUT=45`\n",
    "- Requires `tenacity` installed for backoff."
   ]
  },
  {
   "cell_type": "code",
   "execution_count": 1,
   "id": "e2a260bb",
   "metadata": {
    "execution": {
     "iopub.execute_input": "2025-10-28T12:37:47.795045Z",
     "iopub.status.busy": "2025-10-28T12:37:47.794850Z",
     "iopub.status.idle": "2025-10-28T12:37:47.805020Z",
     "shell.execute_reply": "2025-10-28T12:37:47.804212Z"
    }
   },
   "outputs": [
    {
     "name": "stdout",
     "output_type": "stream",
     "text": [
      "tenacity: ok\n"
     ]
    }
   ],
   "source": [
    "import os\n",
    "os.environ.setdefault('SCILLM_DISABLE_AIOHTTP','1')\n",
    "os.environ.setdefault('SCILLM_FORCE_HTTPX_STREAM','1')\n",
    "os.environ.setdefault('LITELLM_MAX_RETRIES','3')\n",
    "os.environ.setdefault('LITELLM_RETRY_AFTER','1')\n",
    "os.environ.setdefault('LITELLM_TIMEOUT','45')\n",
    "try:\n",
    "    import tenacity  # noqa: F401\n",
    "    print('tenacity: ok')\n",
    "except Exception:\n",
    "    print('tenacity missing — run: pip install tenacity')\n"
   ]
  },
  {
   "cell_type": "markdown",
   "id": "344a9f6a",
   "metadata": {},
   "source": [
    "# Fallback Inference with Attribution\n",
    "\n",
    "        Demonstrates automatic dynamic selection, fallbacks, and `scillm_meta` attribution."
   ]
  },
  {
   "cell_type": "code",
   "execution_count": 2,
   "id": "f3eb0faa",
   "metadata": {
    "execution": {
     "iopub.execute_input": "2025-10-28T12:37:47.807246Z",
     "iopub.status.busy": "2025-10-28T12:37:47.807035Z",
     "iopub.status.idle": "2025-10-28T12:37:56.913956Z",
     "shell.execute_reply": "2025-10-28T12:37:56.913328Z"
    }
   },
   "outputs": [
    {
     "name": "stdout",
     "output_type": "stream",
     "text": [
      "content: {\"ok\": true}\n",
      "meta: {'routing': 'router', 'preferred': 'chutes-1:Alibaba-NLP/Tongyi-DeepResearch-30B-A3B', 'served_model': 'openai_like/Alibaba-NLP/Tongyi-DeepResearch-30B-A3B', 'attempts': []}\n"
     ]
    }
   ],
   "source": [
    "import os\n",
    "from scillm.extras import infer_with_fallback\n",
    "\n",
    "resp, meta = infer_with_fallback(\n",
    "    messages=[{'role':'user','content':'Return only {\"ok\":true} as JSON.'}],\n",
    "    kind='text',\n",
    "    require_json=True,\n",
    "    max_retries=3, retry_after=1, timeout=45,\n",
    ")\n",
    "print('content:', resp.choices[0].message.get('content',''))\n",
    "print('meta:', meta)"
   ]
  }
 ],
 "metadata": {
  "language_info": {
   "codemirror_mode": {
    "name": "ipython",
    "version": 3
   },
   "file_extension": ".py",
   "mimetype": "text/x-python",
   "name": "python",
   "nbconvert_exporter": "python",
   "pygments_lexer": "ipython3",
   "version": "3.12.10"
  }
 },
 "nbformat": 4,
 "nbformat_minor": 5
}
