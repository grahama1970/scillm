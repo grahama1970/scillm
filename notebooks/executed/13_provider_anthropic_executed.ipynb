{
  "cells": [
    {
      "cell_type": "markdown",
      "metadata": {},
      "source": [
        "Run metadata (generated 2025-10-27 20:39:43Z)\n\n- SCILLM_FORCE_HTTPX_STREAM=\n- LITELLM_MAX_RETRIES=\n- LITELLM_RETRY_AFTER=\n- LITELLM_TIMEOUT=\n- SCILLM_ALLOW_TOOLS_SMOKE=\n- SCILLM_ALLOW_STREAM_SMOKE="
      ]
    },
    {
      "cell_type": "markdown",
      "id": "93070400",
      "metadata": {},
      "source": [
        "### Runtime setup\n",
        "The following envs enable stable retries and quiet streaming.\n",
        "\n",
        "- `SCILLM_FORCE_HTTPX_STREAM=1`\n",
        "- `LITELLM_MAX_RETRIES=3`, `LITELLM_RETRY_AFTER=1`, `LITELLM_TIMEOUT=45`\n",
        "- Requires `tenacity` installed for backoff."
      ]
    },
    {
      "cell_type": "code",
      "execution_count": 1,
      "id": "a365d8ac",
      "metadata": {
        "execution": {
          "iopub.execute_input": "2025-10-27T20:24:44.878224Z",
          "iopub.status.busy": "2025-10-27T20:24:44.878126Z",
          "iopub.status.idle": "2025-10-27T20:24:44.885524Z",
          "shell.execute_reply": "2025-10-27T20:24:44.884778Z"
        }
      },
      "outputs": [
        {
          "name": "stdout",
          "output_type": "stream",
          "text": [
            "tenacity: ok\n"
          ]
        }
      ],
      "source": [
        "import os\n",
        "os.environ.setdefault('SCILLM_FORCE_HTTPX_STREAM','1')\n",
        "os.environ.setdefault('LITELLM_MAX_RETRIES','3')\n",
        "os.environ.setdefault('LITELLM_RETRY_AFTER','1')\n",
        "os.environ.setdefault('LITELLM_TIMEOUT','45')\n",
        "try:\n",
        "    import tenacity  # noqa: F401\n",
        "    print('tenacity: ok')\n",
        "except Exception:\n",
        "    print('tenacity missing \u2014 run: pip install tenacity')\n"
      ]
    },
    {
      "cell_type": "markdown",
      "id": "274b341a",
      "metadata": {},
      "source": [
        "# Litellm Provider \u2014 Anthropic (normal models)\n",
        "\n",
        "        Minimal Anthropic call. Requires `ANTHROPIC_API_KEY` and optional `ANTHROPIC_MODEL`\n",
        "        (default `claude-3-haiku-20240307`)."
      ]
    },
    {
      "cell_type": "markdown",
      "id": "8c091a3a",
      "metadata": {},
      "source": [
        "### Why/When/Gotchas/Troubleshooting\n",
        "- Why: litellm-native Anthropic provider via SciLLM for Claude family.\n",
        "- When: Claude models (haiku/sonnet/opus) for fast, low-cost, or high-quality responses.\n",
        "- Gotchas: 401 'invalid x-api-key' \u2192 check ANTHROPIC_API_KEY validity/region; model availability varies by account; set timeouts/retries for long prompts.\n",
        "- Troubleshooting: curl /v1/models or a minimal chat; ensure the selected model is enabled for your key."
      ]
    },
    {
      "cell_type": "code",
      "execution_count": 2,
      "id": "e4f5d924",
      "metadata": {
        "execution": {
          "iopub.execute_input": "2025-10-27T20:24:44.887220Z",
          "iopub.status.busy": "2025-10-27T20:24:44.887118Z",
          "iopub.status.idle": "2025-10-27T20:24:46.473354Z",
          "shell.execute_reply": "2025-10-27T20:24:46.472428Z"
        }
      },
      "outputs": [
        {
          "name": "stdout",
          "output_type": "stream",
          "text": [
            "\n",
            "\u001b[1;31mGive Feedback / Get Help: https://github.com/BerriAI/litellm/issues/new\u001b[0m\n",
            "LiteLLM.Info: If you need to debug this error, use `litellm._turn_on_debug()'.\n",
            "\n",
            "[anthropic] error \u2014 litellm.AuthenticationError: AnthropicException - {\"type\":\"error\",\"error\":{\"type\":\"authentication_error\",\"message\":\"invalid x-api-key\"},\"request_id\":\"req_011CUY\n"
          ]
        }
      ],
      "source": [
        "import os, litellm\n",
        "key = os.environ.get('ANTHROPIC_API_KEY','')\n",
        "model = os.environ.get('ANTHROPIC_MODEL','claude-3-haiku-20240307')\n",
        "if not key:\n",
        "  print('ANTHROPIC_API_KEY not set \u2014 skipping live call')\n",
        "else:\n",
        "  try:\n",
        "    resp = litellm.completion(\n",
        "      model=model,\n",
        "      custom_llm_provider='anthropic',\n",
        "      api_key=key,\n",
        "      messages=[{'role':'user','content':'In one word, say OK'}],\n",
        "      max_tokens=8,\n",
        "      temperature=0,\n",
        "    )\n",
        "    print(resp.choices[0].message.get('content',''))\n",
        "  except Exception as e:\n",
        "    print('[anthropic] error \u2014', str(e)[:160])\n"
      ]
    }
  ],
  "metadata": {
    "language_info": {
      "codemirror_mode": {
        "name": "ipython",
        "version": 3
      },
      "file_extension": ".py",
      "mimetype": "text/x-python",
      "name": "python",
      "nbconvert_exporter": "python",
      "pygments_lexer": "ipython3",
      "version": "3.12.10"
    }
  },
  "nbformat": 4,
  "nbformat_minor": 5
}