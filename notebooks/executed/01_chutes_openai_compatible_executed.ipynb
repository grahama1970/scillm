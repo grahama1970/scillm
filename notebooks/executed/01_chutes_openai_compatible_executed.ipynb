{
 "cells": [
  {
   "cell_type": "markdown",
   "id": "13376c37",
   "metadata": {},
   "source": [
    "### Runtime setup\n",
    "The following envs enable stable retries and quiet streaming.\n",
    "\n",
    "- `SCILLM_DISABLE_AIOHTTP=1` (httpx-only async stability)\n",
    "- `SCILLM_FORCE_HTTPX_STREAM=1`\n",
    "- `LITELLM_MAX_RETRIES=3`, `LITELLM_RETRY_AFTER=1`, `LITELLM_TIMEOUT=45`\n",
    "- Requires `tenacity` installed for backoff."
   ]
  },
  {
   "cell_type": "code",
   "execution_count": 1,
   "id": "2740e2c7",
   "metadata": {
    "execution": {
     "iopub.execute_input": "2025-10-28T12:37:23.320574Z",
     "iopub.status.busy": "2025-10-28T12:37:23.320475Z",
     "iopub.status.idle": "2025-10-28T12:37:23.327677Z",
     "shell.execute_reply": "2025-10-28T12:37:23.327122Z"
    }
   },
   "outputs": [
    {
     "name": "stdout",
     "output_type": "stream",
     "text": [
      "tenacity: ok\n"
     ]
    }
   ],
   "source": [
    "import os\n",
    "os.environ.setdefault('SCILLM_DISABLE_AIOHTTP','1')\n",
    "os.environ.setdefault('SCILLM_FORCE_HTTPX_STREAM','1')\n",
    "os.environ.setdefault('LITELLM_MAX_RETRIES','3')\n",
    "os.environ.setdefault('LITELLM_RETRY_AFTER','1')\n",
    "os.environ.setdefault('LITELLM_TIMEOUT','45')\n",
    "try:\n",
    "    import tenacity  # noqa: F401\n",
    "    print('tenacity: ok')\n",
    "except Exception:\n",
    "    print('tenacity missing — run: pip install tenacity')\n"
   ]
  },
  {
   "cell_type": "markdown",
   "id": "b4ff1349",
   "metadata": {},
   "source": [
    "# Chutes — OpenAI-Compatible\n",
    "\n",
    "        Minimal chat using the OpenAI-compatible path."
   ]
  },
  {
   "cell_type": "markdown",
   "id": "d36198ab",
   "metadata": {},
   "source": [
    "## 1) Sync completion\n",
    "\n",
    "        Minimal, blocking call using `scillm.completion`. Good for quick sanity."
   ]
  },
  {
   "cell_type": "code",
   "execution_count": 2,
   "id": "6fc68345",
   "metadata": {
    "execution": {
     "iopub.execute_input": "2025-10-28T12:37:23.329584Z",
     "iopub.status.busy": "2025-10-28T12:37:23.329484Z",
     "iopub.status.idle": "2025-10-28T12:37:30.081662Z",
     "shell.execute_reply": "2025-10-28T12:37:30.081001Z"
    }
   },
   "outputs": [
    {
     "name": "stdout",
     "output_type": "stream",
     "text": [
      "OK! Let me\n"
     ]
    }
   ],
   "source": [
    "import os\n",
    "from scillm import completion\n",
    "resp = completion(\n",
    "  model=os.environ['CHUTES_MODEL'],\n",
    "  api_base=os.environ['CHUTES_API_BASE'],\n",
    "  api_key=os.environ['CHUTES_API_KEY'],\n",
    "  custom_llm_provider='openai_like',\n",
    "  messages=[{'role':'user','content':'Say OK'}],\n",
    "  max_tokens=8,\n",
    "  temperature=0,\n",
    ")\n",
    "print(resp.choices[0].message.get('content',''))"
   ]
  }
 ],
 "metadata": {
  "language_info": {
   "codemirror_mode": {
    "name": "ipython",
    "version": 3
   },
   "file_extension": ".py",
   "mimetype": "text/x-python",
   "name": "python",
   "nbconvert_exporter": "python",
   "pygments_lexer": "ipython3",
   "version": "3.12.10"
  }
 },
 "nbformat": 4,
 "nbformat_minor": 5
}
