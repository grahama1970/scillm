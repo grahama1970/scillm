{
 "cells": [
  {
   "cell_type": "markdown",
   "id": "de79534f",
   "metadata": {},
   "source": [
    "### Runtime setup\n",
    "The following envs enable stable retries and quiet streaming.\n",
    "\n",
    "- `SCILLM_DISABLE_AIOHTTP=1` (httpx-only async stability)\n",
    "- `SCILLM_FORCE_HTTPX_STREAM=1`\n",
    "- `LITELLM_MAX_RETRIES=3`, `LITELLM_RETRY_AFTER=1`, `LITELLM_TIMEOUT=45`\n",
    "- Requires `tenacity` installed for backoff."
   ]
  },
  {
   "cell_type": "code",
   "execution_count": 1,
   "id": "b6a91933",
   "metadata": {
    "execution": {
     "iopub.execute_input": "2025-10-28T12:37:59.236716Z",
     "iopub.status.busy": "2025-10-28T12:37:59.236616Z",
     "iopub.status.idle": "2025-10-28T12:37:59.245471Z",
     "shell.execute_reply": "2025-10-28T12:37:59.244790Z"
    }
   },
   "outputs": [
    {
     "name": "stdout",
     "output_type": "stream",
     "text": [
      "tenacity: ok\n"
     ]
    }
   ],
   "source": [
    "import os\n",
    "os.environ.setdefault('SCILLM_DISABLE_AIOHTTP','1')\n",
    "os.environ.setdefault('SCILLM_FORCE_HTTPX_STREAM','1')\n",
    "os.environ.setdefault('LITELLM_MAX_RETRIES','3')\n",
    "os.environ.setdefault('LITELLM_RETRY_AFTER','1')\n",
    "os.environ.setdefault('LITELLM_TIMEOUT','45')\n",
    "try:\n",
    "    import tenacity  # noqa: F401\n",
    "    print('tenacity: ok')\n",
    "except Exception:\n",
    "    print('tenacity missing — run: pip install tenacity')\n"
   ]
  },
  {
   "cell_type": "markdown",
   "id": "9d00d635",
   "metadata": {},
   "source": [
    "# Auto Router — One Liner\n",
    "\n",
    "        Create a Router from env automatically; discover, rank, route."
   ]
  },
  {
   "cell_type": "code",
   "execution_count": 2,
   "id": "7d4fda9a",
   "metadata": {
    "execution": {
     "iopub.execute_input": "2025-10-28T12:37:59.247620Z",
     "iopub.status.busy": "2025-10-28T12:37:59.247434Z",
     "iopub.status.idle": "2025-10-28T12:38:05.405613Z",
     "shell.execute_reply": "2025-10-28T12:38:05.405114Z"
    }
   },
   "outputs": [
    {
     "name": "stdout",
     "output_type": "stream",
     "text": [
      "{ \"ok\": true }\n"
     ]
    }
   ],
   "source": [
    "from scillm.extras import auto_router_from_env\n",
    "router = auto_router_from_env(kind='text', require_json=True)\n",
    "resp = router.completion(\n",
    "  model=router.model_list[0]['model_name'],\n",
    "  messages=[{'role':'user','content':'Return only {\"ok\":true} as JSON.'}],\n",
    "  response_format={'type':'json_object'},\n",
    "  max_retries=3, retry_after=1, timeout=45,\n",
    ")\n",
    "print(resp.choices[0].message.get('content',''))"
   ]
  }
 ],
 "metadata": {
  "language_info": {
   "codemirror_mode": {
    "name": "ipython",
    "version": 3
   },
   "file_extension": ".py",
   "mimetype": "text/x-python",
   "name": "python",
   "nbconvert_exporter": "python",
   "pygments_lexer": "ipython3",
   "version": "3.12.10"
  }
 },
 "nbformat": 4,
 "nbformat_minor": 5
}
