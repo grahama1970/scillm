{
 "cells": [
  {
   "cell_type": "markdown",
   "id": "29ce827c",
   "metadata": {},
   "source": [
    "### Runtime setup\n",
    "The following envs enable stable retries and quiet streaming.\n",
    "\n",
    "- `SCILLM_DISABLE_AIOHTTP=1` (httpx-only async stability)\n",
    "- `SCILLM_FORCE_HTTPX_STREAM=1`\n",
    "- `LITELLM_MAX_RETRIES=3`, `LITELLM_RETRY_AFTER=1`, `LITELLM_TIMEOUT=45`\n",
    "- Requires `tenacity` installed for backoff."
   ]
  },
  {
   "cell_type": "code",
   "execution_count": 1,
   "id": "1ee8fe7c",
   "metadata": {
    "execution": {
     "iopub.execute_input": "2025-10-28T12:37:37.058617Z",
     "iopub.status.busy": "2025-10-28T12:37:37.058518Z",
     "iopub.status.idle": "2025-10-28T12:37:37.065794Z",
     "shell.execute_reply": "2025-10-28T12:37:37.065230Z"
    }
   },
   "outputs": [
    {
     "name": "stdout",
     "output_type": "stream",
     "text": [
      "tenacity: ok\n"
     ]
    }
   ],
   "source": [
    "import os\n",
    "os.environ.setdefault('SCILLM_DISABLE_AIOHTTP','1')\n",
    "os.environ.setdefault('SCILLM_FORCE_HTTPX_STREAM','1')\n",
    "os.environ.setdefault('LITELLM_MAX_RETRIES','3')\n",
    "os.environ.setdefault('LITELLM_RETRY_AFTER','1')\n",
    "os.environ.setdefault('LITELLM_TIMEOUT','45')\n",
    "try:\n",
    "    import tenacity  # noqa: F401\n",
    "    print('tenacity: ok')\n",
    "except Exception:\n",
    "    print('tenacity missing — run: pip install tenacity')\n"
   ]
  },
  {
   "cell_type": "markdown",
   "id": "86c53c07",
   "metadata": {},
   "source": [
    "# completion(model_list=...) — First Success"
   ]
  },
  {
   "cell_type": "code",
   "execution_count": 2,
   "id": "36b3579f",
   "metadata": {
    "execution": {
     "iopub.execute_input": "2025-10-28T12:37:37.067646Z",
     "iopub.status.busy": "2025-10-28T12:37:37.067546Z",
     "iopub.status.idle": "2025-10-28T12:37:41.884695Z",
     "shell.execute_reply": "2025-10-28T12:37:41.883878Z"
    }
   },
   "outputs": [
    {
     "name": "stdout",
     "output_type": "stream",
     "text": [
      "\n",
      "\u001b[1;31mProvider List: https://docs.litellm.ai/docs/providers\u001b[0m\n",
      "\n",
      "OK! Let me\n"
     ]
    }
   ],
   "source": [
    "import os\n",
    "from scillm import completion\n",
    "base=os.environ['CHUTES_API_BASE']; key=os.environ['CHUTES_API_KEY']; model=os.environ['CHUTES_MODEL']\n",
    "model_list=[\n",
    "  {'model_name':'m1','litellm_params':{'model':model,'api_base':base,'api_key':key,'custom_llm_provider':'openai_like'}},\n",
    "  {'model_name':'m2','litellm_params':{'model':model,'api_base':base,'api_key':key,'custom_llm_provider':'openai_like'}},\n",
    "]\n",
    "resp = completion(model='m1', model_list=model_list, messages=[{'role':'user','content':'Say OK'}], max_tokens=8, temperature=0)\n",
    "print(resp.choices[0].message.get('content',''))"
   ]
  }
 ],
 "metadata": {
  "language_info": {
   "codemirror_mode": {
    "name": "ipython",
    "version": 3
   },
   "file_extension": ".py",
   "mimetype": "text/x-python",
   "name": "python",
   "nbconvert_exporter": "python",
   "pygments_lexer": "ipython3",
   "version": "3.12.10"
  }
 },
 "nbformat": 4,
 "nbformat_minor": 5
}
