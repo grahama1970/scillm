{
 "cells": [
  {
   "cell_type": "markdown",
   "id": "4fd1551f",
   "metadata": {},
   "source": [
    "### Runtime setup\n",
    "The following envs enable stable retries and quiet streaming.\n",
    "\n",
    "- `SCILLM_DISABLE_AIOHTTP=1` (httpx-only async stability)\n",
    "- `SCILLM_FORCE_HTTPX_STREAM=1`\n",
    "- `LITELLM_MAX_RETRIES=3`, `LITELLM_RETRY_AFTER=1`, `LITELLM_TIMEOUT=45`\n",
    "- Requires `tenacity` installed for backoff."
   ]
  },
  {
   "cell_type": "code",
   "execution_count": 1,
   "id": "f88260cd",
   "metadata": {
    "execution": {
     "iopub.execute_input": "2025-10-28T12:37:32.273156Z",
     "iopub.status.busy": "2025-10-28T12:37:32.272944Z",
     "iopub.status.idle": "2025-10-28T12:37:32.284516Z",
     "shell.execute_reply": "2025-10-28T12:37:32.283749Z"
    }
   },
   "outputs": [
    {
     "name": "stdout",
     "output_type": "stream",
     "text": [
      "tenacity: ok\n"
     ]
    }
   ],
   "source": [
    "import os\n",
    "os.environ.setdefault('SCILLM_DISABLE_AIOHTTP','1')\n",
    "os.environ.setdefault('SCILLM_FORCE_HTTPX_STREAM','1')\n",
    "os.environ.setdefault('LITELLM_MAX_RETRIES','3')\n",
    "os.environ.setdefault('LITELLM_RETRY_AFTER','1')\n",
    "os.environ.setdefault('LITELLM_TIMEOUT','45')\n",
    "try:\n",
    "    import tenacity  # noqa: F401\n",
    "    print('tenacity: ok')\n",
    "except Exception:\n",
    "    print('tenacity missing — run: pip install tenacity')\n"
   ]
  },
  {
   "cell_type": "markdown",
   "id": "861aedc0",
   "metadata": {},
   "source": [
    "# Router.parallel_acompletions"
   ]
  },
  {
   "cell_type": "code",
   "execution_count": 2,
   "id": "ba65d162",
   "metadata": {
    "execution": {
     "iopub.execute_input": "2025-10-28T12:37:32.286279Z",
     "iopub.status.busy": "2025-10-28T12:37:32.286101Z",
     "iopub.status.idle": "2025-10-28T12:37:34.761155Z",
     "shell.execute_reply": "2025-10-28T12:37:34.760330Z"
    }
   },
   "outputs": [
    {
     "name": "stdout",
     "output_type": "stream",
     "text": [
      "['', '', '']\n"
     ]
    }
   ],
   "source": [
    "import os, asyncio\n",
    "import nest_asyncio; nest_asyncio.apply()\n",
    "from scillm import Router\n",
    "router = Router(default_litellm_params={\n",
    "  'api_base': os.environ['CHUTES_API_BASE'],\n",
    "  'api_key': os.environ['CHUTES_API_KEY'],\n",
    "  'custom_llm_provider': 'openai_like',\n",
    "})\n",
    "prompts = ['OK-A','OK-B','OK-C']\n",
    "reqs = [{\n",
    "  'model': os.environ['CHUTES_MODEL'],\n",
    "  'messages': [{'role':'user','content': p}],\n",
    "  'kwargs': {'max_tokens': 8, 'temperature': 0, 'timeout': 20}\n",
    "} for p in prompts]\n",
    "async def run():\n",
    "  outs = await router.parallel_acompletions(requests=reqs, concurrency=2)\n",
    "  print([ (o.get('choices',[{}])[0].get('message',{}).get('content','') or '').strip() for o in outs ])\n",
    "loop = asyncio.get_event_loop()\n",
    "loop.run_until_complete(run())"
   ]
  }
 ],
 "metadata": {
  "language_info": {
   "codemirror_mode": {
    "name": "ipython",
    "version": 3
   },
   "file_extension": ".py",
   "mimetype": "text/x-python",
   "name": "python",
   "nbconvert_exporter": "python",
   "pygments_lexer": "ipython3",
   "version": "3.12.10"
  }
 },
 "nbformat": 4,
 "nbformat_minor": 5
}
