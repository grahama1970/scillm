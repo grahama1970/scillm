{
  "cells": [
    {
      "cell_type": "markdown",
      "metadata": {},
      "source": [
        "Run metadata (generated 2025-10-27 20:39:43Z)\n\n- SCILLM_FORCE_HTTPX_STREAM=\n- LITELLM_MAX_RETRIES=\n- LITELLM_RETRY_AFTER=\n- LITELLM_TIMEOUT=\n- SCILLM_ALLOW_TOOLS_SMOKE=\n- SCILLM_ALLOW_STREAM_SMOKE="
      ]
    },
    {
      "cell_type": "markdown",
      "metadata": {},
      "source": [
        "Run metadata (generated 2025-10-27 19:49:26Z)\n\n- SCILLM_FORCE_HTTPX_STREAM=\n- LITELLM_MAX_RETRIES=\n- LITELLM_RETRY_AFTER=\n- LITELLM_TIMEOUT=\n- SCILLM_ALLOW_TOOLS_SMOKE=\n- SCILLM_ALLOW_STREAM_SMOKE="
      ]
    },
    {
      "cell_type": "code",
      "execution_count": 1,
      "id": "068a1377",
      "metadata": {
        "execution": {
          "iopub.execute_input": "2025-10-27T19:45:37.378484Z",
          "iopub.status.busy": "2025-10-27T19:45:37.378382Z",
          "iopub.status.idle": "2025-10-27T19:45:37.381648Z",
          "shell.execute_reply": "2025-10-27T19:45:37.381105Z"
        }
      },
      "outputs": [
        {
          "name": "stdout",
          "output_type": "stream",
          "text": [
            "cwd: /home/graham/workspace/experiments/litellm\n"
          ]
        }
      ],
      "source": [
        "import os, pathlib\n",
        "p=pathlib.Path().resolve()\n",
        "if (p/'Makefile').exists():\n",
        "    pass\n",
        "elif p.name=='notebooks' and (p.parent/'Makefile').exists():\n",
        "    os.chdir(p.parent)\n",
        "print('cwd:', os.getcwd())"
      ]
    },
    {
      "cell_type": "markdown",
      "id": "ad11145b",
      "metadata": {},
      "source": [
        "# Mini\u2011Agent \u2014 Doctor\n",
        "\n",
        "        Runs the mini\u2011agent verification script and prints a minimal JSON chat result."
      ]
    },
    {
      "cell_type": "code",
      "execution_count": 2,
      "id": "d614ea2f",
      "metadata": {
        "execution": {
          "iopub.execute_input": "2025-10-27T19:45:37.382854Z",
          "iopub.status.busy": "2025-10-27T19:45:37.382754Z",
          "iopub.status.idle": "2025-10-27T19:45:37.386118Z",
          "shell.execute_reply": "2025-10-27T19:45:37.385592Z"
        }
      },
      "outputs": [
        {
          "name": "stdout",
          "output_type": "stream",
          "text": [
            "{'__name__': '<run_path>', '__doc__': '\\nVerify mini-agent works (Docker on 127.0.0.1:8788 and local debug).\\n\\nChecks (Docker):\\n- GET /ready == {\"ok\": true}\\n- POST /agent/run with tool_backend=local returns ok true and 200\\n\\nChecks (Local):\\n- Start uvicorn on 127.0.0.1:8789 and probe /ready and /agent/run\\n\\nUsage:\\n  python debug/verify_mini_agent.py          # docker-only check\\n  python debug/verify_mini_agent.py --local  # also start local uvicorn on 8789\\n', '__package__': '', '__loader__': None, '__spec__': None, '__file__': 'debug/verify_mini_agent.py', '__cached__': None, '__builtins__': {'__name__': 'builtins', '__doc__': \"Built-in functions, types, exceptions, and other objects.\\n\\nThis module provides direct access to all 'built-in'\\nidentifiers of Python; for example, builtins.len is\\nthe full name for the built-in function len().\\n\\nThis module is not normally accessed explicitly by most\\napplications, but can be useful in modules that provide\\nobjects with the same name as a built-in value, but in\\nwhich the built-in of that name is also needed.\", '__package__': '', '__loader__': <class '_frozen_importlib.BuiltinImporter'>, '__spec__': ModuleSpec(name='builtins', loader=<class '_frozen_importlib.BuiltinImporter'>, origin='built-in'), '__build_class__': <built-in function __build_class__>, '__import__': <built-in function __import__>, 'abs': <built-in function abs>, 'all': <built-in function all>, 'any': <built-in function any>, 'ascii': <built-in function ascii>, 'bin': <built-in function bin>, 'breakpoint': <built-in function breakpoint>, 'callable': <built-in function callable>, 'chr': <built-in function chr>, 'compile': <built-in function compile>, 'delattr': <built-in function delattr>, 'dir': <built-in function dir>, 'divmod': <built-in function divmod>, 'eval': <built-in function eval>, 'exec': <built-in function exec>, 'format': <built-in function format>, 'getattr': <built-in function getattr>, 'globals': <built-in function globals>, 'hasattr': <built-in function hasattr>, 'hash': <built-in function hash>, 'hex': <built-in function hex>, 'id': <built-in function id>, 'input': <bound method Kernel.raw_input of <ipykernel.ipkernel.IPythonKernel object at 0x7acde260d130>>, 'isinstance': <built-in function isinstance>, 'issubclass': <built-in function issubclass>, 'iter': <built-in function iter>, 'aiter': <built-in function aiter>, 'len': <built-in function len>, 'locals': <built-in function locals>, 'max': <built-in function max>, 'min': <built-in function min>, 'next': <built-in function next>, 'anext': <built-in function anext>, 'oct': <built-in function oct>, 'ord': <built-in function ord>, 'pow': <built-in function pow>, 'print': <built-in function print>, 'repr': <built-in function repr>, 'round': <built-in function round>, 'setattr': <built-in function setattr>, 'sorted': <built-in function sorted>, 'sum': <built-in function sum>, 'vars': <built-in function vars>, 'None': None, 'Ellipsis': Ellipsis, 'NotImplemented': NotImplemented, 'False': False, 'True': True, 'bool': <class 'bool'>, 'memoryview': <class 'memoryview'>, 'bytearray': <class 'bytearray'>, 'bytes': <class 'bytes'>, 'classmethod': <class 'classmethod'>, 'complex': <class 'complex'>, 'dict': <class 'dict'>, 'enumerate': <class 'enumerate'>, 'filter': <class 'filter'>, 'float': <class 'float'>, 'frozenset': <class 'frozenset'>, 'property': <class 'property'>, 'int': <class 'int'>, 'list': <class 'list'>, 'map': <class 'map'>, 'object': <class 'object'>, 'range': <class 'range'>, 'reversed': <class 'reversed'>, 'set': <class 'set'>, 'slice': <class 'slice'>, 'staticmethod': <class 'staticmethod'>, 'str': <class 'str'>, 'super': <class 'super'>, 'tuple': <class 'tuple'>, 'type': <class 'type'>, 'zip': <class 'zip'>, '__debug__': True, 'BaseException': <class 'BaseException'>, 'BaseExceptionGroup': <class 'BaseExceptionGroup'>, 'Exception': <class 'Exception'>, 'GeneratorExit': <class 'GeneratorExit'>, 'KeyboardInterrupt': <class 'KeyboardInterrupt'>, 'SystemExit': <class 'SystemExit'>, 'ArithmeticError': <class 'ArithmeticError'>, 'AssertionError': <class 'AssertionError'>, 'AttributeError': <class 'AttributeError'>, 'BufferError': <class 'BufferError'>, 'EOFError': <class 'EOFError'>, 'ImportError': <class 'ImportError'>, 'LookupError': <class 'LookupError'>, 'MemoryError': <class 'MemoryError'>, 'NameError': <class 'NameError'>, 'OSError': <class 'OSError'>, 'ReferenceError': <class 'ReferenceError'>, 'RuntimeError': <class 'RuntimeError'>, 'StopAsyncIteration': <class 'StopAsyncIteration'>, 'StopIteration': <class 'StopIteration'>, 'SyntaxError': <class 'SyntaxError'>, 'SystemError': <class 'SystemError'>, 'TypeError': <class 'TypeError'>, 'ValueError': <class 'ValueError'>, 'Warning': <class 'Warning'>, 'FloatingPointError': <class 'FloatingPointError'>, 'OverflowError': <class 'OverflowError'>, 'ZeroDivisionError': <class 'ZeroDivisionError'>, 'BytesWarning': <class 'BytesWarning'>, 'DeprecationWarning': <class 'DeprecationWarning'>, 'EncodingWarning': <class 'EncodingWarning'>, 'FutureWarning': <class 'FutureWarning'>, 'ImportWarning': <class 'ImportWarning'>, 'PendingDeprecationWarning': <class 'PendingDeprecationWarning'>, 'ResourceWarning': <class 'ResourceWarning'>, 'RuntimeWarning': <class 'RuntimeWarning'>, 'SyntaxWarning': <class 'SyntaxWarning'>, 'UnicodeWarning': <class 'UnicodeWarning'>, 'UserWarning': <class 'UserWarning'>, 'BlockingIOError': <class 'BlockingIOError'>, 'ChildProcessError': <class 'ChildProcessError'>, 'ConnectionError': <class 'ConnectionError'>, 'FileExistsError': <class 'FileExistsError'>, 'FileNotFoundError': <class 'FileNotFoundError'>, 'InterruptedError': <class 'InterruptedError'>, 'IsADirectoryError': <class 'IsADirectoryError'>, 'NotADirectoryError': <class 'NotADirectoryError'>, 'PermissionError': <class 'PermissionError'>, 'ProcessLookupError': <class 'ProcessLookupError'>, 'TimeoutError': <class 'TimeoutError'>, 'IndentationError': <class 'IndentationError'>, 'IndexError': <class 'IndexError'>, 'KeyError': <class 'KeyError'>, 'ModuleNotFoundError': <class 'ModuleNotFoundError'>, 'NotImplementedError': <class 'NotImplementedError'>, 'RecursionError': <class 'RecursionError'>, 'UnboundLocalError': <class 'UnboundLocalError'>, 'UnicodeError': <class 'UnicodeError'>, 'BrokenPipeError': <class 'BrokenPipeError'>, 'ConnectionAbortedError': <class 'ConnectionAbortedError'>, 'ConnectionRefusedError': <class 'ConnectionRefusedError'>, 'ConnectionResetError': <class 'ConnectionResetError'>, 'TabError': <class 'TabError'>, 'UnicodeDecodeError': <class 'UnicodeDecodeError'>, 'UnicodeEncodeError': <class 'UnicodeEncodeError'>, 'UnicodeTranslateError': <class 'UnicodeTranslateError'>, 'ExceptionGroup': <class 'ExceptionGroup'>, 'EnvironmentError': <class 'OSError'>, 'IOError': <class 'OSError'>, 'open': <built-in function open>, 'copyright': Copyright (c) 2001-2023 Python Software Foundation.\n",
            "All Rights Reserved.\n",
            "\n",
            "Copyright (c) 2000 BeOpen.com.\n",
            "All Rights Reserved.\n",
            "\n",
            "Copyright (c) 1995-2001 Corporation for National Research Initiatives.\n",
            "All Rights Reserved.\n",
            "\n",
            "Copyright (c) 1991-1995 Stichting Mathematisch Centrum, Amsterdam.\n",
            "All Rights Reserved., 'credits':     Thanks to CWI, CNRI, BeOpen, Zope Corporation, the Python Software\n",
            "    Foundation, and a cast of thousands for supporting Python\n",
            "    development.  See www.python.org for more information., 'license': Type license() to see the full license text, 'help': Type help() for interactive help, or help(object) for help about object., 'execfile': <function execfile at 0x7acde24f9120>, 'runfile': <function runfile at 0x7acde1b598a0>, '__IPYTHON__': True, 'display': <function display at 0x7acde32bd440>, 'get_ipython': <bound method InteractiveShell.get_ipython of <ipykernel.zmqshell.ZMQInteractiveShell object at 0x7acde1b55df0>>}, 'argparse': <module 'argparse' from '/home/graham/.local/share/uv/python/cpython-3.12.10-linux-x86_64-gnu/lib/python3.12/argparse.py'>, 'json': <module 'json' from '/home/graham/.local/share/uv/python/cpython-3.12.10-linux-x86_64-gnu/lib/python3.12/json/__init__.py'>, 'subprocess': <module 'subprocess' from '/home/graham/.local/share/uv/python/cpython-3.12.10-linux-x86_64-gnu/lib/python3.12/subprocess.py'>, 'sys': <module 'sys' (built-in)>, 'time': <module 'time' (built-in)>, 'urllib': <module 'urllib' from '/home/graham/.local/share/uv/python/cpython-3.12.10-linux-x86_64-gnu/lib/python3.12/urllib/__init__.py'>, '_get': <function _get at 0x7acde07de2a0>, '_post': <function _post at 0x7acde07de3e0>, 'check_endpoint': <function check_endpoint at 0x7acde07de480>, 'start_local_and_check': <function start_local_and_check at 0x7acde07de520>, 'main': <function main at 0x7acde07de5c0>}\n"
          ]
        }
      ],
      "source": [
        "import runpy\n",
        "out = runpy.run_path('debug/verify_mini_agent.py')\n",
        "print(out)"
      ]
    }
  ],
  "metadata": {
    "language_info": {
      "codemirror_mode": {
        "name": "ipython",
        "version": 3
      },
      "file_extension": ".py",
      "mimetype": "text/x-python",
      "name": "python",
      "nbconvert_exporter": "python",
      "pygments_lexer": "ipython3",
      "version": "3.12.10"
    }
  },
  "nbformat": 4,
  "nbformat_minor": 5
}