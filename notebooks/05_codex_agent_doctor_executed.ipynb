{
  "cells": [
    {
      "cell_type": "markdown",
      "id": "7d04fb87",
      "metadata": {},
      "source": [
        "Run metadata (generated 2025-10-27 19:49:26Z)\n",
        "\n",
        "- SCILLM_FORCE_HTTPX_STREAM=\n",
        "- LITELLM_MAX_RETRIES=\n",
        "- LITELLM_RETRY_AFTER=\n",
        "- LITELLM_TIMEOUT=\n",
        "- SCILLM_ALLOW_TOOLS_SMOKE=\n",
        "- SCILLM_ALLOW_STREAM_SMOKE="
      ]
    },
    {
      "cell_type": "code",
      "execution_count": 1,
      "id": "522eed97",
      "metadata": {
        "execution": {
          "iopub.execute_input": "2025-10-27T19:45:29.615776Z",
          "iopub.status.busy": "2025-10-27T19:45:29.615671Z",
          "iopub.status.idle": "2025-10-27T19:45:29.618820Z",
          "shell.execute_reply": "2025-10-27T19:45:29.618394Z"
        }
      },
      "outputs": [
        {
          "name": "stdout",
          "output_type": "stream",
          "text": [
            "cwd: /home/graham/workspace/experiments/litellm\n"
          ]
        }
      ],
      "source": [
        "import os, pathlib\n",
        "# Ensure working directory is repo root for relative paths\n",
        "p=pathlib.Path().resolve()\n",
        "if (p/'Makefile').exists():\n",
        "    pass\n",
        "elif p.name=='notebooks' and (p.parent/'Makefile').exists():\n",
        "    os.chdir(p.parent)\n",
        "print('cwd:', os.getcwd())"
      ]
    },
    {
      "cell_type": "markdown",
      "id": "f025f7a3",
      "metadata": {},
      "source": [
        "# Codex‑Agent — Doctor\n",
        "\n",
        "        Verifies the Codex Agent surface is healthy and can complete a JSON chat."
      ]
    },
    {
      "cell_type": "code",
      "execution_count": 2,
      "id": "69c06a1b",
      "metadata": {
        "execution": {
          "iopub.execute_input": "2025-10-27T19:45:29.620359Z",
          "iopub.status.busy": "2025-10-27T19:45:29.620255Z",
          "iopub.status.idle": "2025-10-27T19:45:29.664867Z",
          "shell.execute_reply": "2025-10-27T19:45:29.664286Z"
        }
      },
      "outputs": [
        {
          "name": "stdout",
          "output_type": "stream",
          "text": [
            "healthz: {\"ok\": true, \"name\": \"certainly-lean4-bridge\", \"schema\": \"canonical+lean4@v1\"}\n"
          ]
        }
      ],
      "source": [
        "# 1) Health\n",
        "import os, json, subprocess, sys\n",
        "base = os.environ.get('CODEX_AGENT_API_BASE', 'http://127.0.0.1:8790')\n",
        "code = subprocess.run(['bash','-lc', f\"curl -fsS {base}/healthz\"], capture_output=True, text=True)\n",
        "print('healthz:', code.stdout.strip())"
      ]
    },
    {
      "cell_type": "code",
      "execution_count": 3,
      "id": "3de90344",
      "metadata": {
        "execution": {
          "iopub.execute_input": "2025-10-27T19:45:29.666123Z",
          "iopub.status.busy": "2025-10-27T19:45:29.666015Z",
          "iopub.status.idle": "2025-10-27T19:45:29.669113Z",
          "shell.execute_reply": "2025-10-27T19:45:29.668660Z"
        }
      },
      "outputs": [
        {
          "name": "stdout",
          "output_type": "stream",
          "text": [
            "doctor: unknown\n"
          ]
        }
      ],
      "source": [
        "# 2) Doctor\n",
        "import runpy\n",
        "out = runpy.run_path('debug/codex_agent_doctor.py')\n",
        "print(out.get('status','doctor: unknown'))"
      ]
    },
    {
      "cell_type": "code",
      "execution_count": 4,
      "id": "702c1328",
      "metadata": {
        "execution": {
          "iopub.execute_input": "2025-10-27T19:45:29.670262Z",
          "iopub.status.busy": "2025-10-27T19:45:29.670163Z",
          "iopub.status.idle": "2025-10-27T19:45:35.143213Z",
          "shell.execute_reply": "2025-10-27T19:45:35.142594Z"
        }
      },
      "outputs": [
        {
          "name": "stdout",
          "output_type": "stream",
          "text": [
            "None\n"
          ]
        }
      ],
      "source": [
        "# 3) Minimal JSON chat via scillm\n",
        "import os\n",
        "from scillm import completion\n",
        "resp = completion(\n",
        "  model=os.environ.get('CHUTES_MODEL'),\n",
        "  api_base=os.environ.get('CHUTES_API_BASE'),\n",
        "  api_key=None,\n",
        "  custom_llm_provider='openai_like',\n",
        "  extra_headers={'x-api-key': os.environ.get('CHUTES_API_KEY',''), 'Authorization': os.environ.get('CHUTES_API_KEY','')},\n",
        "  messages=[{'role':'user','content':'Return only {\"ok\":true} as JSON.'}],\n",
        "  response_format={'type':'json_object'},\n",
        "  temperature=0,\n",
        "  max_tokens=8,\n",
        ")\n",
        "print(resp.choices[0].message.get('content',''))"
      ]
    }
  ],
  "metadata": {
    "language_info": {
      "codemirror_mode": {
        "name": "ipython",
        "version": 3
      },
      "file_extension": ".py",
      "mimetype": "text/x-python",
      "name": "python",
      "nbconvert_exporter": "python",
      "pygments_lexer": "ipython3",
      "version": "3.12.10"
    }
  },
  "nbformat": 4,
  "nbformat_minor": 5
}
