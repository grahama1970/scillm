{
  "cells": [
    {
      "cell_type": "markdown",
      "metadata": {},
      "source": [
        "Run metadata (generated 2025-10-27 20:39:43Z)\n\n- SCILLM_FORCE_HTTPX_STREAM=\n- LITELLM_MAX_RETRIES=\n- LITELLM_RETRY_AFTER=\n- LITELLM_TIMEOUT=\n- SCILLM_ALLOW_TOOLS_SMOKE=\n- SCILLM_ALLOW_STREAM_SMOKE="
      ]
    },
    {
      "cell_type": "markdown",
      "id": "5f52af42",
      "metadata": {},
      "source": [
        "Run metadata (generated 2025-10-27 19:49:26Z)\n",
        "\n",
        "- SCILLM_FORCE_HTTPX_STREAM=\n",
        "- LITELLM_MAX_RETRIES=\n",
        "- LITELLM_RETRY_AFTER=\n",
        "- LITELLM_TIMEOUT=\n",
        "- SCILLM_ALLOW_TOOLS_SMOKE=\n",
        "- SCILLM_ALLOW_STREAM_SMOKE="
      ]
    },
    {
      "cell_type": "markdown",
      "id": "d8ad3a61",
      "metadata": {},
      "source": [
        "### Runtime setup\n",
        "The following envs enable stable retries and quiet streaming.\n",
        "\n",
        "- `SCILLM_FORCE_HTTPX_STREAM=1`\n",
        "- `LITELLM_MAX_RETRIES=3`, `LITELLM_RETRY_AFTER=1`, `LITELLM_TIMEOUT=45`\n",
        "- Requires `tenacity` installed for backoff."
      ]
    },
    {
      "cell_type": "code",
      "execution_count": 1,
      "id": "2213d41c",
      "metadata": {
        "execution": {
          "iopub.execute_input": "2025-10-27T19:44:07.858418Z",
          "iopub.status.busy": "2025-10-27T19:44:07.858317Z",
          "iopub.status.idle": "2025-10-27T19:44:07.868632Z",
          "shell.execute_reply": "2025-10-27T19:44:07.867950Z"
        }
      },
      "outputs": [
        {
          "name": "stdout",
          "output_type": "stream",
          "text": [
            "tenacity: ok\n"
          ]
        }
      ],
      "source": [
        "import os\n",
        "os.environ.setdefault('SCILLM_FORCE_HTTPX_STREAM','1')\n",
        "os.environ.setdefault('LITELLM_MAX_RETRIES','3')\n",
        "os.environ.setdefault('LITELLM_RETRY_AFTER','1')\n",
        "os.environ.setdefault('LITELLM_TIMEOUT','45')\n",
        "try:\n",
        "    import tenacity  # noqa: F401\n",
        "    print('tenacity: ok')\n",
        "except Exception:\n",
        "    print('tenacity missing \u2014 run: pip install tenacity')\n"
      ]
    },
    {
      "cell_type": "markdown",
      "id": "be6a0771",
      "metadata": {},
      "source": [
        "# Router.parallel_acompletions"
      ]
    },
    {
      "cell_type": "code",
      "execution_count": 2,
      "id": "b45d3cea",
      "metadata": {
        "execution": {
          "iopub.execute_input": "2025-10-27T19:44:07.870377Z",
          "iopub.status.busy": "2025-10-27T19:44:07.870197Z",
          "iopub.status.idle": "2025-10-27T19:44:10.202325Z",
          "shell.execute_reply": "2025-10-27T19:44:10.201635Z"
        }
      },
      "outputs": [
        {
          "name": "stdout",
          "output_type": "stream",
          "text": [
            "['', '', '']\n"
          ]
        }
      ],
      "source": [
        "import os, asyncio\n",
        "import nest_asyncio; nest_asyncio.apply()\n",
        "from scillm import Router\n",
        "router = Router(default_litellm_params={\n",
        "  'api_base': os.environ['CHUTES_API_BASE'],\n",
        "  'api_key': None,\n",
        "  'custom_llm_provider': 'openai_like',\n",
        "  'extra_headers': {'Authorization': f\"Bearer {os.environ['CHUTES_API_KEY']}\"},\n",
        "})\n",
        "prompts = ['OK-A','OK-B','OK-C']\n",
        "reqs = [{\n",
        "  'model': os.environ['CHUTES_MODEL'],\n",
        "  'messages': [{'role':'user','content': p}],\n",
        "  'kwargs': {'max_tokens': 8, 'temperature': 0, 'timeout': 20}\n",
        "} for p in prompts]\n",
        "async def run():\n",
        "  outs = await router.parallel_acompletions(requests=reqs, concurrency=2)\n",
        "  print([ (o.get('choices',[{}])[0].get('message',{}).get('content','') or '').strip() for o in outs ])\n",
        "loop = asyncio.get_event_loop()\n",
        "loop.run_until_complete(run())"
      ]
    }
  ],
  "metadata": {
    "language_info": {
      "codemirror_mode": {
        "name": "ipython",
        "version": 3
      },
      "file_extension": ".py",
      "mimetype": "text/x-python",
      "name": "python",
      "nbconvert_exporter": "python",
      "pygments_lexer": "ipython3",
      "version": "3.12.10"
    }
  },
  "nbformat": 4,
  "nbformat_minor": 5
}