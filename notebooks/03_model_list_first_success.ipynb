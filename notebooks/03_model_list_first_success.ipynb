{
 "cells": [
  {
   "cell_type": "markdown",
   "id": "2f004670",
   "metadata": {},
   "source": [
    "### Runtime setup\n",
    "The following envs enable stable retries and quiet streaming.\n",
    "\n",
    "- `SCILLM_FORCE_HTTPX_STREAM=1`\n",
    "- `LITELLM_MAX_RETRIES=3`, `LITELLM_RETRY_AFTER=1`, `LITELLM_TIMEOUT=45`\n",
    "- Requires `tenacity` installed for backoff."
   ]
  },
  {
   "cell_type": "code",
   "execution_count": null,
   "id": "fbe0533d",
   "metadata": {},
   "outputs": [],
   "source": [
    "import os\n",
    "os.environ.setdefault('SCILLM_FORCE_HTTPX_STREAM','1')\n",
    "os.environ.setdefault('LITELLM_MAX_RETRIES','3')\n",
    "os.environ.setdefault('LITELLM_RETRY_AFTER','1')\n",
    "os.environ.setdefault('LITELLM_TIMEOUT','45')\n",
    "try:\n",
    "    import tenacity  # noqa: F401\n",
    "    print('tenacity: ok')\n",
    "except Exception:\n",
    "    print('tenacity missing — run: pip install tenacity')\n"
   ]
  },
  {
   "cell_type": "markdown",
   "id": "2564e53b",
   "metadata": {},
   "source": [
    "# completion(model_list=...) — First Success"
   ]
  },
  {
   "cell_type": "code",
   "execution_count": null,
   "id": "eb420a1f",
   "metadata": {},
   "outputs": [],
   "source": [
    "import os\n",
    "from scillm import completion\n",
    "base=os.environ['CHUTES_API_BASE']; key=os.environ['CHUTES_API_KEY']; model=os.environ['CHUTES_MODEL']\n",
    "model_list=[\n",
    "  {'model_name':'m1','litellm_params':{'model':model,'api_base':base,'api_key':None,'custom_llm_provider':'openai_like','extra_headers':{'Authorization': f\"Bearer {key}\"}}},\n",
    "  {'model_name':'m2','litellm_params':{'model':model,'api_base':base,'api_key':None,'custom_llm_provider':'openai_like','extra_headers':{'Authorization': f\"Bearer {key}\"}}},\n",
    "]\n",
    "resp = completion(model='m1', model_list=model_list, messages=[{'role':'user','content':'Say OK'}], max_tokens=8, temperature=0)\n",
    "print(resp.choices[0].message.get('content',''))"
   ]
  }
 ],
 "metadata": {},
 "nbformat": 4,
 "nbformat_minor": 5
}