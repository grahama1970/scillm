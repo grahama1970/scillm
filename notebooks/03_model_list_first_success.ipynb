{
 "cells": [
  {
   "cell_type": "markdown",
   "id": "b3dfccec",
   "metadata": {},
   "source": [
    "# completion(model_list=...) — First Success"
   ]
  },
  {
   "cell_type": "code",
   "execution_count": null,
   "id": "999301b3",
   "metadata": {},
   "outputs": [],
   "source": [
    "import os, litellm\n",
    "base=os.environ['CHUTES_API_BASE']; key=os.environ['CHUTES_API_KEY']; model=os.environ['CHUTES_MODEL']\n",
    "model_list=[\n",
    "  {'model_name':'m1','litellm_params':{'model':model,'api_base':base,'api_key':None,'custom_llm_provider':'openai_like','extra_headers':{'x-api-key':key,'Authorization':key}}},\n",
    "  {'model_name':'m2','litellm_params':{'model':model,'api_base':base,'api_key':None,'custom_llm_provider':'openai_like','extra_headers':{'x-api-key':key,'Authorization':key}}},\n",
    "]\n",
    "resp = litellm.completion(model='m1', model_list=model_list, messages=[{'role':'user','content':'Say OK'}], max_tokens=8, temperature=0)\n",
    "print(resp.choices[0].message.get('content',''))"
   ]
  }
 ],
 "metadata": {},
 "nbformat": 4,
 "nbformat_minor": 5
}