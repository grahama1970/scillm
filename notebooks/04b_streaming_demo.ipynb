{
  "cells": [
    {
      "cell_type": "markdown",
      "metadata": {},
      "source": [
        "### Why/When/Gotchas/Troubleshooting\n- Why: stream partial tokens for interactive UIs.\n- When: long responses, live rendering.\n- Gotchas: notebook event loops \u2014 use nest_asyncio or loop-aware pattern; throttle to a few chunks.\n- Troubleshooting: set SCILLM_ALLOW_STREAM_SMOKE=1 to execute; check Bearer header + model supports stream."
      ]
    },
    {
      "cell_type": "markdown",
      "id": "4ffe189d",
      "metadata": {},
      "source": [
        "### Runtime setup\n",
        "The following envs enable stable retries and quiet streaming.\n",
        "\n",
        "- `SCILLM_FORCE_HTTPX_STREAM=1`\n",
        "- `LITELLM_MAX_RETRIES=3`, `LITELLM_RETRY_AFTER=1`, `LITELLM_TIMEOUT=45`\n",
        "- Requires `tenacity` installed for backoff."
      ]
    },
    {
      "cell_type": "code",
      "execution_count": null,
      "id": "51cd62d4",
      "metadata": {},
      "outputs": [],
      "source": [
        "import os\n",
        "os.environ.setdefault('SCILLM_FORCE_HTTPX_STREAM','1')\n",
        "os.environ.setdefault('LITELLM_MAX_RETRIES','3')\n",
        "os.environ.setdefault('LITELLM_RETRY_AFTER','1')\n",
        "os.environ.setdefault('LITELLM_TIMEOUT','45')\n",
        "try:\n",
        "    import tenacity  # noqa: F401\n",
        "    print('tenacity: ok')\n",
        "except Exception:\n",
        "    print('tenacity missing \u2014 run: pip install tenacity')\n"
      ]
    },
    {
      "cell_type": "code",
      "execution_count": null,
      "id": "f487d555",
      "metadata": {},
      "outputs": [],
      "source": [
        "import os, asyncio\n",
        "from scillm import acompletion\n",
        "async def main():\n",
        "  stream = await acompletion(\n",
        "    model=os.environ.get('CHUTES_VLM_MODEL', os.environ['CHUTES_MODEL']),\n",
        "    api_base=os.environ['CHUTES_API_BASE'],\n",
        "    api_key=None,\n",
        "    custom_llm_provider='openai_like',\n",
        "    extra_headers={'Authorization': f\"Bearer {os.environ['CHUTES_API_KEY']}\"},\n",
        "    messages=[{'role':'user','content':'In one word, say OK'}],\n",
        "    temperature=0,\n",
        "    max_tokens=8,\n",
        "    stream=True,\n",
        "    timeout=30,\n",
        "  )\n",
        "  try:\n",
        "    count=0\n",
        "    async for ev in stream:\n",
        "      d = getattr(ev,'delta',None) or ev\n",
        "      text = (d.get('content') if isinstance(d,dict) else getattr(d,'content',None)) or ''\n",
        "      if text:\n",
        "        print(text,end='')\n",
        "        count += 1\n",
        "        if count >= 2:\n",
        "          break\n",
        "  finally:\n",
        "    if hasattr(stream,'aclose'):\n",
        "      await stream.aclose()\n",
        "  print()\n",
        "\n",
        "asyncio.run(main())\n"
      ]
    },
    {
      "cell_type": "markdown",
      "metadata": {},
      "source": [
        "\n### Troubleshooting with curl (Chutes)\n\nIf a SciLLM call fails, verify the tenant directly:\n\n1) List models\n```bash\ncurl -sS -H \"Authorization: Bearer $CHUTES_API_KEY\"   \"$CHUTES_API_BASE/models\" | jq '. | {count:(.data//[])|length} // length'\n```\n\n2) Minimal JSON chat (non-stream)\n```bash\ncurl -sS -X POST -H \"Authorization: Bearer $CHUTES_API_KEY\"   -H \"Content-Type: application/json\"   \"$CHUTES_API_BASE/chat/completions\"   -d '{\n    \"model\": \"'$CHUTES_TEXT_MODEL'\",\n    \"messages\": [{\"role\":\"user\",\"content\":\"Return only {\"ok\":true} as JSON.\"}],\n    \"response_format\": {\"type\":\"json_object\"},\n    \"max_tokens\": 16,\n    \"temperature\": 0\n  }' | jq '.choices[0].message.content // empty'\n```\n\n3) Streaming (text) \u2014 watch for data: lines\n```bash\ncurl -sN -X POST -H \"Authorization: Bearer $CHUTES_API_KEY\"   -H \"Content-Type: application/json\"   \"$CHUTES_API_BASE/chat/completions\"   -d '{\n    \"model\": \"'$CHUTES_TEXT_MODEL'\",\n    \"messages\": [{\"role\":\"user\",\"content\":\"Tell me a 10 word story.\"}],\n    \"stream\": true\n  }'\n```\n\n4) Multimodal (image_url)\n```bash\nIMG_URL=${SCILLM_DEMO_IMAGE:-https://upload.wikimedia.org/wikipedia/commons/thumb/3/3f/Fronalpstock_big.jpg/320px-Fronalpstock_big.jpg}\ncurl -sS -X POST -H \"Authorization: Bearer $CHUTES_API_KEY\"   -H \"Content-Type: application/json\"   \"$CHUTES_API_BASE/chat/completions\"   -d '{\n    \"model\": \"'$CHUTES_VLM_MODEL'\",\n    \"messages\": [{\n      \"role\":\"user\",\n      \"content\": [\n        {\"type\":\"text\",\"text\":\"Say OK and a color in the image.\"},\n        {\"type\":\"image_url\",\"image_url\": {\"url\": \"'\"$IMG_URL\"'\"}}\n      ]\n    }],\n    \"max_tokens\": 32,\n    \"temperature\": 0\n  }' | jq '.choices[0].message.content // empty'\n```\n"
      ]
    }
  ],
  "metadata": {},
  "nbformat": 4,
  "nbformat_minor": 5
}